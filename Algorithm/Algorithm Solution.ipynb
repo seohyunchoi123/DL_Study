{
 "cells": [
  {
   "cell_type": "code",
   "execution_count": 7,
   "metadata": {
    "collapsed": true
   },
   "outputs": [],
   "source": [
    "import numpy as np\n"
   ]
  },
  {
   "cell_type": "markdown",
   "metadata": {},
   "source": [
    "### algorithm 1 -1"
   ]
  },
  {
   "cell_type": "code",
   "execution_count": 2,
   "metadata": {
    "scrolled": true
   },
   "outputs": [
    {
     "data": {
      "text/plain": [
       "(1, 2, 3, 4, 5, 6)"
      ]
     },
     "execution_count": 2,
     "metadata": {},
     "output_type": "execute_result"
    }
   ],
   "source": [
    "tuple(range(1,7))"
   ]
  },
  {
   "cell_type": "code",
   "execution_count": 8,
   "metadata": {
    "collapsed": true
   },
   "outputs": [],
   "source": [
    "def craps(n):\n",
    "    result_record =[]\n",
    "    \n",
    "    for _ in range(n):\n",
    "        d1 = np.random.choice(tuple(range(1,7)),1)\n",
    "        d2 = np.random.choice(tuple(range(1,7)),1)\n",
    "        dice_sum = d1+d2\n",
    "\n",
    "        if dice_sum == 7 or dice_sum == 11 : \n",
    "            result_record.append('win')\n",
    "        elif dice_sum == 2 or dice_sum == 3 or dice_sum == 12 :\n",
    "            result_record.append('lost')\n",
    "        else :\n",
    "            while True :\n",
    "                dd1 = np.random.choice(tuple(range(1,7)),1)\n",
    "                dd2 = np.random.choice(tuple(range(1,7)),1)\n",
    "                dice_sum2 = dd1+dd2\n",
    "                if dice_sum2 == dice_sum : \n",
    "                    result_record.append('win')\n",
    "                    break\n",
    "                elif dice_sum2 == 7:\n",
    "                    result_record.append('lost')\n",
    "                    break\n",
    "    return result_record.count(\"win\") / n"
   ]
  },
  {
   "cell_type": "code",
   "execution_count": 4,
   "metadata": {
    "scrolled": true
   },
   "outputs": [
    {
     "data": {
      "text/plain": [
       "0.49473"
      ]
     },
     "execution_count": 4,
     "metadata": {},
     "output_type": "execute_result"
    }
   ],
   "source": [
    "craps(100000)"
   ]
  },
  {
   "cell_type": "code",
   "execution_count": 162,
   "metadata": {},
   "outputs": [
    {
     "data": {
      "text/plain": [
       "0.49425"
      ]
     },
     "execution_count": 162,
     "metadata": {},
     "output_type": "execute_result"
    }
   ],
   "source": [
    "craps(100000)"
   ]
  },
  {
   "cell_type": "code",
   "execution_count": 10,
   "metadata": {},
   "outputs": [
    {
     "data": {
      "text/plain": [
       "1.0"
      ]
     },
     "execution_count": 10,
     "metadata": {},
     "output_type": "execute_result"
    }
   ],
   "source": [
    "craps(1)"
   ]
  },
  {
   "cell_type": "markdown",
   "metadata": {},
   "source": [
    "### algorithm 1-2"
   ]
  },
  {
   "cell_type": "code",
   "execution_count": 57,
   "metadata": {
    "collapsed": true
   },
   "outputs": [],
   "source": [
    "def rep(n, k, s):\n",
    "    winner_record=[]\n",
    "    for i in range(n):\n",
    "        if i%100 == 0:\n",
    "            print('%d번쨰 시행중' %i)\n",
    "        ky = k\n",
    "        sy = s # 이걸 햇어야지 !!! \n",
    "        while True :\n",
    "            a = craps(1)\n",
    "            if a == 1:\n",
    "                ky +=1\n",
    "                sy -=1\n",
    "                if sy ==0 :\n",
    "                    winner_record.append('ky')\n",
    "                    break\n",
    "            else : \n",
    "                ky -=1\n",
    "                sy +=1\n",
    "                if ky==0:\n",
    "                    winner_record.append('sy')\n",
    "                    break\n",
    "    return winner_record.count('ky')/n"
   ]
  },
  {
   "cell_type": "code",
   "execution_count": 51,
   "metadata": {},
   "outputs": [
    {
     "name": "stdout",
     "output_type": "stream",
     "text": [
      "0번쨰 시행중\n",
      "100번쨰 시행중\n"
     ]
    },
    {
     "data": {
      "text/plain": [
       "0.45"
      ]
     },
     "execution_count": 51,
     "metadata": {},
     "output_type": "execute_result"
    }
   ],
   "source": [
    "rep(n=200, k=12, s=9)\n"
   ]
  },
  {
   "cell_type": "code",
   "execution_count": 52,
   "metadata": {},
   "outputs": [
    {
     "name": "stdout",
     "output_type": "stream",
     "text": [
      "0번쨰 시행중\n",
      "100번쨰 시행중\n",
      "200번쨰 시행중\n",
      "300번쨰 시행중\n",
      "400번쨰 시행중\n",
      "500번쨰 시행중\n",
      "600번쨰 시행중\n",
      "700번쨰 시행중\n",
      "800번쨰 시행중\n",
      "900번쨰 시행중\n"
     ]
    },
    {
     "data": {
      "text/plain": [
       "0.485"
      ]
     },
     "execution_count": 52,
     "metadata": {},
     "output_type": "execute_result"
    }
   ],
   "source": [
    "rep(n=1000, k=12, s=9)"
   ]
  },
  {
   "cell_type": "code",
   "execution_count": 58,
   "metadata": {
    "scrolled": true
   },
   "outputs": [
    {
     "name": "stdout",
     "output_type": "stream",
     "text": [
      "0번쨰 시행중\n",
      "100번쨰 시행중\n",
      "200번쨰 시행중\n",
      "300번쨰 시행중\n",
      "400번쨰 시행중\n",
      "500번쨰 시행중\n",
      "600번쨰 시행중\n",
      "700번쨰 시행중\n",
      "800번쨰 시행중\n",
      "900번쨰 시행중\n",
      "1000번쨰 시행중\n",
      "1100번쨰 시행중\n",
      "1200번쨰 시행중\n",
      "1300번쨰 시행중\n",
      "1400번쨰 시행중\n",
      "1500번쨰 시행중\n",
      "1600번쨰 시행중\n",
      "1700번쨰 시행중\n",
      "1800번쨰 시행중\n",
      "1900번쨰 시행중\n",
      "2000번쨰 시행중\n",
      "2100번쨰 시행중\n",
      "2200번쨰 시행중\n",
      "2300번쨰 시행중\n",
      "2400번쨰 시행중\n",
      "2500번쨰 시행중\n",
      "2600번쨰 시행중\n",
      "2700번쨰 시행중\n",
      "2800번쨰 시행중\n",
      "2900번쨰 시행중\n",
      "3000번쨰 시행중\n",
      "3100번쨰 시행중\n",
      "3200번쨰 시행중\n",
      "3300번쨰 시행중\n",
      "3400번쨰 시행중\n",
      "3500번쨰 시행중\n",
      "3600번쨰 시행중\n",
      "3700번쨰 시행중\n",
      "3800번쨰 시행중\n",
      "3900번쨰 시행중\n",
      "4000번쨰 시행중\n",
      "4100번쨰 시행중\n",
      "4200번쨰 시행중\n",
      "4300번쨰 시행중\n",
      "4400번쨰 시행중\n",
      "4500번쨰 시행중\n",
      "4600번쨰 시행중\n",
      "4700번쨰 시행중\n",
      "4800번쨰 시행중\n",
      "4900번쨰 시행중\n",
      "5000번쨰 시행중\n",
      "5100번쨰 시행중\n",
      "5200번쨰 시행중\n",
      "5300번쨰 시행중\n",
      "5400번쨰 시행중\n",
      "5500번쨰 시행중\n",
      "5600번쨰 시행중\n",
      "5700번쨰 시행중\n",
      "5800번쨰 시행중\n",
      "5900번쨰 시행중\n",
      "6000번쨰 시행중\n",
      "6100번쨰 시행중\n",
      "6200번쨰 시행중\n",
      "6300번쨰 시행중\n",
      "6400번쨰 시행중\n",
      "6500번쨰 시행중\n",
      "6600번쨰 시행중\n",
      "6700번쨰 시행중\n",
      "6800번쨰 시행중\n",
      "6900번쨰 시행중\n",
      "7000번쨰 시행중\n",
      "7100번쨰 시행중\n",
      "7200번쨰 시행중\n",
      "7300번쨰 시행중\n",
      "7400번쨰 시행중\n",
      "7500번쨰 시행중\n",
      "7600번쨰 시행중\n",
      "7700번쨰 시행중\n",
      "7800번쨰 시행중\n",
      "7900번쨰 시행중\n",
      "8000번쨰 시행중\n",
      "8100번쨰 시행중\n",
      "8200번쨰 시행중\n",
      "8300번쨰 시행중\n",
      "8400번쨰 시행중\n",
      "8500번쨰 시행중\n",
      "8600번쨰 시행중\n",
      "8700번쨰 시행중\n",
      "8800번쨰 시행중\n",
      "8900번쨰 시행중\n",
      "9000번쨰 시행중\n",
      "9100번쨰 시행중\n",
      "9200번쨰 시행중\n",
      "9300번쨰 시행중\n",
      "9400번쨰 시행중\n",
      "9500번쨰 시행중\n",
      "9600번쨰 시행중\n",
      "9700번쨰 시행중\n",
      "9800번쨰 시행중\n",
      "9900번쨰 시행중\n"
     ]
    },
    {
     "data": {
      "text/plain": [
       "0.5038"
      ]
     },
     "execution_count": 58,
     "metadata": {},
     "output_type": "execute_result"
    }
   ],
   "source": [
    "rep(n=10000, k=12, s=9)"
   ]
  },
  {
   "cell_type": "code",
   "execution_count": 54,
   "metadata": {},
   "outputs": [
    {
     "name": "stdout",
     "output_type": "stream",
     "text": [
      "0번쨰 시행중\n",
      "100번쨰 시행중\n"
     ]
    },
    {
     "data": {
      "text/plain": [
       "0.565"
      ]
     },
     "execution_count": 54,
     "metadata": {},
     "output_type": "execute_result"
    }
   ],
   "source": [
    "rep(n=200, k=20, s=9)"
   ]
  },
  {
   "cell_type": "code",
   "execution_count": 53,
   "metadata": {
    "scrolled": false
   },
   "outputs": [
    {
     "name": "stdout",
     "output_type": "stream",
     "text": [
      "0번쨰 시행중\n",
      "100번쨰 시행중\n",
      "200번쨰 시행중\n",
      "300번쨰 시행중\n",
      "400번쨰 시행중\n",
      "500번쨰 시행중\n",
      "600번쨰 시행중\n",
      "700번쨰 시행중\n",
      "800번쨰 시행중\n",
      "900번쨰 시행중\n"
     ]
    },
    {
     "data": {
      "text/plain": [
       "0.607"
      ]
     },
     "execution_count": 53,
     "metadata": {},
     "output_type": "execute_result"
    }
   ],
   "source": [
    "rep(n=1000, k=20, s=9)"
   ]
  },
  {
   "cell_type": "code",
   "execution_count": 59,
   "metadata": {
    "scrolled": true
   },
   "outputs": [
    {
     "name": "stdout",
     "output_type": "stream",
     "text": [
      "0번쨰 시행중\n",
      "100번쨰 시행중\n",
      "200번쨰 시행중\n",
      "300번쨰 시행중\n",
      "400번쨰 시행중\n",
      "500번쨰 시행중\n",
      "600번쨰 시행중\n",
      "700번쨰 시행중\n",
      "800번쨰 시행중\n",
      "900번쨰 시행중\n",
      "1000번쨰 시행중\n",
      "1100번쨰 시행중\n",
      "1200번쨰 시행중\n",
      "1300번쨰 시행중\n",
      "1400번쨰 시행중\n",
      "1500번쨰 시행중\n",
      "1600번쨰 시행중\n",
      "1700번쨰 시행중\n",
      "1800번쨰 시행중\n",
      "1900번쨰 시행중\n",
      "2000번쨰 시행중\n",
      "2100번쨰 시행중\n",
      "2200번쨰 시행중\n",
      "2300번쨰 시행중\n",
      "2400번쨰 시행중\n",
      "2500번쨰 시행중\n",
      "2600번쨰 시행중\n",
      "2700번쨰 시행중\n",
      "2800번쨰 시행중\n",
      "2900번쨰 시행중\n",
      "3000번쨰 시행중\n",
      "3100번쨰 시행중\n",
      "3200번쨰 시행중\n",
      "3300번쨰 시행중\n",
      "3400번쨰 시행중\n",
      "3500번쨰 시행중\n",
      "3600번쨰 시행중\n",
      "3700번쨰 시행중\n",
      "3800번쨰 시행중\n",
      "3900번쨰 시행중\n",
      "4000번쨰 시행중\n",
      "4100번쨰 시행중\n",
      "4200번쨰 시행중\n",
      "4300번쨰 시행중\n",
      "4400번쨰 시행중\n",
      "4500번쨰 시행중\n",
      "4600번쨰 시행중\n",
      "4700번쨰 시행중\n",
      "4800번쨰 시행중\n",
      "4900번쨰 시행중\n",
      "5000번쨰 시행중\n",
      "5100번쨰 시행중\n",
      "5200번쨰 시행중\n",
      "5300번쨰 시행중\n",
      "5400번쨰 시행중\n",
      "5500번쨰 시행중\n",
      "5600번쨰 시행중\n",
      "5700번쨰 시행중\n",
      "5800번쨰 시행중\n",
      "5900번쨰 시행중\n",
      "6000번쨰 시행중\n",
      "6100번쨰 시행중\n",
      "6200번쨰 시행중\n",
      "6300번쨰 시행중\n",
      "6400번쨰 시행중\n",
      "6500번쨰 시행중\n",
      "6600번쨰 시행중\n",
      "6700번쨰 시행중\n",
      "6800번쨰 시행중\n",
      "6900번쨰 시행중\n",
      "7000번쨰 시행중\n",
      "7100번쨰 시행중\n",
      "7200번쨰 시행중\n",
      "7300번쨰 시행중\n",
      "7400번쨰 시행중\n",
      "7500번쨰 시행중\n",
      "7600번쨰 시행중\n",
      "7700번쨰 시행중\n",
      "7800번쨰 시행중\n",
      "7900번쨰 시행중\n",
      "8000번쨰 시행중\n",
      "8100번쨰 시행중\n",
      "8200번쨰 시행중\n",
      "8300번쨰 시행중\n",
      "8400번쨰 시행중\n",
      "8500번쨰 시행중\n",
      "8600번쨰 시행중\n",
      "8700번쨰 시행중\n",
      "8800번쨰 시행중\n",
      "8900번쨰 시행중\n",
      "9000번쨰 시행중\n",
      "9100번쨰 시행중\n",
      "9200번쨰 시행중\n",
      "9300번쨰 시행중\n",
      "9400번쨰 시행중\n",
      "9500번쨰 시행중\n",
      "9600번쨰 시행중\n",
      "9700번쨰 시행중\n",
      "9800번쨰 시행중\n",
      "9900번쨰 시행중\n"
     ]
    },
    {
     "data": {
      "text/plain": [
       "0.6048"
      ]
     },
     "execution_count": 59,
     "metadata": {},
     "output_type": "execute_result"
    }
   ],
   "source": [
    "rep(n=10000, k=20, s=9)"
   ]
  },
  {
   "cell_type": "markdown",
   "metadata": {},
   "source": [
    "### 알고리즘 2"
   ]
  },
  {
   "cell_type": "code",
   "execution_count": 110,
   "metadata": {},
   "outputs": [
    {
     "data": {
      "text/plain": [
       "matrix([[1, 0, 1, 1, 1],\n",
       "        [0, 0, 0, 1, 1],\n",
       "        [0, 1, 1, 1, 1],\n",
       "        [0, 1, 1, 1, 1],\n",
       "        [0, 1, 1, 1, 1]])"
      ]
     },
     "execution_count": 110,
     "metadata": {},
     "output_type": "execute_result"
    }
   ],
   "source": [
    "mat1 = np.matrix([[1,0,1,1,1],\n",
    "          [0,0,0,1,1],\n",
    "          [0,1,1,1,1],\n",
    "          [0,1,1,1,1],\n",
    "          [0,1,1,1,1]])\n",
    "mat1"
   ]
  },
  {
   "cell_type": "code",
   "execution_count": 112,
   "metadata": {
    "collapsed": true
   },
   "outputs": [],
   "source": [
    "def square(mat1):   \n",
    "    for length in range(mat1.shape[0]):\n",
    "\n",
    "        for i in range(mat1.shape[0]-length):\n",
    "            for j in range(mat1.shape[1]-length):\n",
    "                summ=0\n",
    "                summ= mat1[i:i+length+1, j:j+length+1].sum()\n",
    "                if summ == (length+1)**2 :\n",
    "                    result = summ\n",
    "    return result"
   ]
  },
  {
   "cell_type": "code",
   "execution_count": 113,
   "metadata": {},
   "outputs": [
    {
     "data": {
      "text/plain": [
       "9"
      ]
     },
     "execution_count": 113,
     "metadata": {},
     "output_type": "execute_result"
    }
   ],
   "source": [
    "square(mat1)"
   ]
  },
  {
   "cell_type": "code",
   "execution_count": 117,
   "metadata": {},
   "outputs": [
    {
     "data": {
      "text/plain": [
       "25"
      ]
     },
     "execution_count": 117,
     "metadata": {},
     "output_type": "execute_result"
    }
   ],
   "source": [
    "mat2 = np.matrix([[1,1,1,1,1,1],\n",
    "                 [1,1,1,1,1,1],\n",
    "                 [1,1,1,1,1,1],\n",
    "                 [1,1,1,1,1,1],\n",
    "                 [1,1,1,1,1,1],\n",
    "                 [1,1,1,1,1,0]])\n",
    "square(mat2)"
   ]
  },
  {
   "cell_type": "markdown",
   "metadata": {},
   "source": [
    "### 알고리즘 3"
   ]
  },
  {
   "cell_type": "code",
   "execution_count": 118,
   "metadata": {
    "collapsed": true
   },
   "outputs": [],
   "source": [
    "a = [10,20,5,30,15]"
   ]
  },
  {
   "cell_type": "code",
   "execution_count": 243,
   "metadata": {},
   "outputs": [
    {
     "data": {
      "text/plain": [
       "4000"
      ]
     },
     "execution_count": 243,
     "metadata": {},
     "output_type": "execute_result"
    }
   ],
   "source": [
    "record=[]\n",
    "for i in range(len(a)-2):\n",
    "    b = a.copy()\n",
    "    fee1 = b[i:i+3][0] * b[i:i+3][1] * b[i:i+3][2]\n",
    "    b.pop(i+1)\n",
    "    for j in range(len(b)-2):\n",
    "        c = b.copy()\n",
    "        fee2 = c[j:j+3][0] * c[j:j+3][1] * c[j:j+3][2]\n",
    "        c.pop(j+1)\n",
    "        fee3 = c[0] * c[1] * c[2]\n",
    "        record.append(fee1+fee2+fee3)\n",
    "min(record)"
   ]
  },
  {
   "cell_type": "code",
   "execution_count": 81,
   "metadata": {
    "collapsed": true
   },
   "outputs": [],
   "source": [
    "a = [10,20,5,30,15]"
   ]
  },
  {
   "cell_type": "code",
   "execution_count": 82,
   "metadata": {
    "scrolled": true
   },
   "outputs": [
    {
     "data": {
      "text/plain": [
       "4000"
      ]
     },
     "execution_count": 82,
     "metadata": {},
     "output_type": "execute_result"
    }
   ],
   "source": [
    "# 일반화\n",
    "\n",
    "price_record=[]\n",
    "start_idx = 0\n",
    "end_idx = len(a)-1\n",
    "min_idx = a.index(min(a[start_idx+1:end_idx]))\n",
    "initial_min_idx = min_idx\n",
    "\n",
    "for _ in range(len(a)-2):\n",
    "    price = a[start_idx] * a[min_idx] * a[end_idx] \n",
    "    price_record.append(price)\n",
    "    \n",
    "    try:\n",
    "        if min(a[min_idx+1:end_idx]) >= min(a[start_idx+1:min_idx]):\n",
    "            end_idx = min_idx\n",
    "            min_idx = a.index(min(a[start_idx+1:end_idx]))\n",
    "        else :\n",
    "            start_idx = min_idx\n",
    "            min_idx = a.index(min(a[start_idx+1:end_idx]))\n",
    "    except: \n",
    "        if end_idx <= initial_min_idx :\n",
    "            start_idx = end_idx\n",
    "            end_idx = len(a)-1\n",
    "            min_idx = a.index(min(a[start_idx+1:end_idx]))\n",
    "        else :\n",
    "            end_idx = start_idx\n",
    "            start_idx = 0\n",
    "            min_idx = a.index(min(a[start_idx+1:end_idx]))\n",
    "            \n",
    "sum(price_record)"
   ]
  },
  {
   "cell_type": "code",
   "execution_count": 84,
   "metadata": {
    "collapsed": true
   },
   "outputs": [],
   "source": [
    "a = [10,20,5,30]"
   ]
  },
  {
   "cell_type": "code",
   "execution_count": 87,
   "metadata": {},
   "outputs": [
    {
     "ename": "ValueError",
     "evalue": "min() arg is an empty sequence",
     "output_type": "error",
     "traceback": [
      "\u001b[1;31m---------------------------------------------------------------------------\u001b[0m",
      "\u001b[1;31mValueError\u001b[0m                                Traceback (most recent call last)",
      "\u001b[1;32m<ipython-input-87-4025505e439e>\u001b[0m in \u001b[0;36m<module>\u001b[1;34m()\u001b[0m\n\u001b[0;32m     29\u001b[0m                 \u001b[0mstart_idx\u001b[0m \u001b[1;33m=\u001b[0m \u001b[1;36m0\u001b[0m\u001b[1;33m\u001b[0m\u001b[0m\n\u001b[1;32m---> 30\u001b[1;33m                 \u001b[0mmin_idx\u001b[0m \u001b[1;33m=\u001b[0m \u001b[0ma\u001b[0m\u001b[1;33m.\u001b[0m\u001b[0mindex\u001b[0m\u001b[1;33m(\u001b[0m\u001b[0mmin\u001b[0m\u001b[1;33m(\u001b[0m\u001b[0ma\u001b[0m\u001b[1;33m[\u001b[0m\u001b[0mstart_idx\u001b[0m\u001b[1;33m+\u001b[0m\u001b[1;36m1\u001b[0m\u001b[1;33m:\u001b[0m\u001b[0mend_idx\u001b[0m\u001b[1;33m]\u001b[0m\u001b[1;33m)\u001b[0m\u001b[1;33m)\u001b[0m\u001b[1;33m\u001b[0m\u001b[0m\n\u001b[0m\u001b[0;32m     31\u001b[0m         \u001b[1;32mexcept\u001b[0m\u001b[1;33m:\u001b[0m\u001b[1;33m\u001b[0m\u001b[0m\n",
      "\u001b[1;31mValueError\u001b[0m: min() arg is an empty sequence",
      "\nDuring handling of the above exception, another exception occurred:\n",
      "\u001b[1;31mValueError\u001b[0m                                Traceback (most recent call last)",
      "\u001b[1;32m<ipython-input-87-4025505e439e>\u001b[0m in \u001b[0;36m<module>\u001b[1;34m()\u001b[0m\n\u001b[0;32m     33\u001b[0m                 \u001b[0mstart_idx\u001b[0m \u001b[1;33m=\u001b[0m \u001b[0mmin_idx\u001b[0m\u001b[1;33m\u001b[0m\u001b[0m\n\u001b[0;32m     34\u001b[0m                 \u001b[0mend_idx\u001b[0m \u001b[1;33m=\u001b[0m \u001b[0mlen\u001b[0m\u001b[1;33m(\u001b[0m\u001b[0ma\u001b[0m\u001b[1;33m)\u001b[0m\u001b[1;33m-\u001b[0m\u001b[1;36m1\u001b[0m\u001b[1;33m\u001b[0m\u001b[0m\n\u001b[1;32m---> 35\u001b[1;33m                 \u001b[0mmin_idx\u001b[0m \u001b[1;33m=\u001b[0m \u001b[0ma\u001b[0m\u001b[1;33m.\u001b[0m\u001b[0mindex\u001b[0m\u001b[1;33m(\u001b[0m\u001b[0mmin\u001b[0m\u001b[1;33m(\u001b[0m\u001b[0ma\u001b[0m\u001b[1;33m[\u001b[0m\u001b[0mstart_idx\u001b[0m\u001b[1;33m+\u001b[0m\u001b[1;36m1\u001b[0m\u001b[1;33m:\u001b[0m\u001b[0mend_idx\u001b[0m\u001b[1;33m]\u001b[0m\u001b[1;33m)\u001b[0m\u001b[1;33m)\u001b[0m\u001b[1;33m\u001b[0m\u001b[0m\n\u001b[0m\u001b[0;32m     36\u001b[0m             \u001b[1;32melse\u001b[0m \u001b[1;33m:\u001b[0m\u001b[1;33m\u001b[0m\u001b[0m\n\u001b[0;32m     37\u001b[0m                 \u001b[0mend_idx\u001b[0m \u001b[1;33m=\u001b[0m \u001b[0mmin_idx\u001b[0m\u001b[1;33m\u001b[0m\u001b[0m\n",
      "\u001b[1;31mValueError\u001b[0m: min() arg is an empty sequence"
     ]
    }
   ],
   "source": [
    "# 일반화 시도 2 \n",
    "\n",
    "price_record=[]\n",
    "start_idx = 0\n",
    "end_idx = len(a)-1\n",
    "min_idx = a.index(min(a[start_idx+1:end_idx]))\n",
    "initial_min_idx = min_idx\n",
    "\n",
    "for _ in range(len(a)-2):\n",
    "    price = a[start_idx] * a[min_idx] * a[end_idx] \n",
    "    price_record.append(price)\n",
    "    \n",
    "    if abs(min_idx - end_idx) !=1 and abs(min_idx - start_idx) != 1:\n",
    "        if min(a[min_idx+1:end_idx]) >= min(a[start_idx+1:min_idx]):\n",
    "            end_idx = min_idx\n",
    "            min_idx = a.index(min(a[start_idx+1:end_idx]))\n",
    "        else :\n",
    "            start_idx = min_idx\n",
    "            min_idx = a.index(min(a[start_idx+1:end_idx]))\n",
    "\n",
    "    else : \n",
    "        try : \n",
    "            if end_idx <= initial_min_idx :\n",
    "                start_idx = end_idx\n",
    "                end_idx = len(a)-1\n",
    "                min_idx = a.index(min(a[start_idx+1:end_idx]))\n",
    "            else :\n",
    "                end_idx = start_idx\n",
    "                start_idx = 0\n",
    "                min_idx = a.index(min(a[start_idx+1:end_idx]))\n",
    "        except:\n",
    "            if end_idx <= initial_min_idx :\n",
    "                start_idx = min_idx\n",
    "                end_idx = len(a)-1\n",
    "                min_idx = a.index(min(a[start_idx+1:end_idx]))\n",
    "            else :\n",
    "                end_idx = min_idx\n",
    "                start_idx = 0\n",
    "                min_idx = a.index(min(a[start_idx+1:end_idx]))\n",
    "            \n",
    "sum(price_record)"
   ]
  },
  {
   "cell_type": "code",
   "execution_count": 45,
   "metadata": {},
   "outputs": [],
   "source": [
    "a = [30,35,15,5,10,20,25]"
   ]
  },
  {
   "cell_type": "code",
   "execution_count": 46,
   "metadata": {},
   "outputs": [
    {
     "data": {
      "text/plain": [
       "28000"
      ]
     },
     "execution_count": 46,
     "metadata": {},
     "output_type": "execute_result"
    }
   ],
   "source": [
    "# 일반화 시도 3\n",
    "\n",
    "price_record=[]\n",
    "start_idx = 0\n",
    "end_idx = len(a)-1\n",
    "min_idx = a.index(min(a[start_idx+1:end_idx]))\n",
    "initial_min_idx = min_idx\n",
    "price = a[start_idx] * a[min_idx] * a[end_idx] \n",
    "price_record.append(price)\n",
    "\n",
    "for _ in range(len(a)-3):\n",
    "    \n",
    "    if abs(min_idx - end_idx) !=1 and abs(min_idx - start_idx) != 1:\n",
    "        if a[start_idx]*min(a[min_idx+1:end_idx])*a[start_idx] >= a[start_idx]*min(a[start_idx+1:min_idx])*a[start_idx]:\n",
    "            end_idx = min_idx\n",
    "            min_idx = a.index(min(a[start_idx+1:end_idx]))\n",
    "        else :\n",
    "            start_idx = min_idx\n",
    "            min_idx = a.index(min(a[start_idx+1:end_idx]))\n",
    "\n",
    "    elif abs(min_idx - end_idx) ==1 and abs(min_idx - start_idx) != 1 : \n",
    "        end_idx = min_idx\n",
    "        min_idx = a.index(min(a[start_idx+1:end_idx]))\n",
    "        \n",
    "    elif abs(min_idx - end_idx) !=1 and abs(min_idx - start_idx) == 1:\n",
    "        start_idx = min_idx\n",
    "        min_idx = a.index(min(a[start_idx+1:end_idx]))\n",
    "        \n",
    "    else :\n",
    "        if end_idx <= initial_min_idx :\n",
    "            start_idx = initial_min_idx\n",
    "            end_idx = len(a)-1\n",
    "            min_idx = a.index(min(a[start_idx+1:end_idx]))\n",
    "        else :\n",
    "            end_idx = initial_min_idx\n",
    "            start_idx = 0\n",
    "            min_idx = a.index(min(a[start_idx+1:end_idx]))\n",
    "            \n",
    "    price = a[start_idx] * a[min_idx] * a[end_idx] \n",
    "    price_record.append(price)\n",
    "        \n",
    "sum(price_record)"
   ]
  },
  {
   "cell_type": "markdown",
   "metadata": {},
   "source": [
    "### 알고리즘 4\n"
   ]
  },
  {
   "cell_type": "code",
   "execution_count": 146,
   "metadata": {
    "collapsed": true,
    "scrolled": true
   },
   "outputs": [],
   "source": [
    "def my_inverse (mat):\n",
    "    n = len(mat)\n",
    "    new_mat = mat.tolist()\n",
    "    for i in range(n):\n",
    "        new_mat[i] = mat.tolist()[i] + list(np.zeros(n))\n",
    "        new_mat[i][n+i] = 1\n",
    "    new_mat = np.matrix(new_mat) # 옆에 단위행렬 붙인행렬 생성 \n",
    "\n",
    "    for i in range(len(new_mat)-1) :\n",
    "        for j in range(i+1, len(new_mat)) :\n",
    "            if new_mat[i,i] !=0 and new_mat[j,i] !=0:\n",
    "                new_mat[j] = new_mat[j]-new_mat[i]*(new_mat[j,i]/new_mat[i,i]) # 상삼각행렬 먼저 만들기\n",
    "\n",
    "    last_idx = len(new_mat) -1\n",
    "    for i in range(len(new_mat)-1) :\n",
    "        for j in range(i+1, len(new_mat)) :\n",
    "            if new_mat[last_idx-i,last_idx-i] !=0 and new_mat[last_idx-j,last_idx-i] !=0:\n",
    "                new_mat[last_idx-j] = new_mat[last_idx-j]-new_mat[last_idx-i]*(new_mat[last_idx-j,last_idx-i]/new_mat[last_idx-i,last_idx-i])\n",
    "                 # 대각행렬 형태로 만들기\n",
    "                    \n",
    "    for i in range(len(new_mat)):\n",
    "        new_mat[i] = new_mat[i]/new_mat[i,i] # 대각원소들 모두 다 1로\n",
    " \n",
    "    return new_mat[:,len(new_mat):] # 결과물"
   ]
  },
  {
   "cell_type": "code",
   "execution_count": 156,
   "metadata": {},
   "outputs": [
    {
     "name": "stdout",
     "output_type": "stream",
     "text": [
      "[[ 0.16666667 -0.33333333  0.16666667]\n",
      " [-1.83333333  0.66666667  0.16666667]\n",
      " [ 1.5        -0.33333333 -0.16666667]]\n",
      "[[ 0.16666667 -0.33333333  0.16666667]\n",
      " [-1.83333333  0.66666667  0.16666667]\n",
      " [ 1.5        -0.33333333 -0.16666667]]\n"
     ]
    }
   ],
   "source": [
    "mat = np.matrix([[1,2,3],\n",
    "                [1,5,6],\n",
    "                [7,8,9]])\n",
    "print(np.linalg.inv(mat))\n",
    "print(my_inverse(mat))  # 정답확인"
   ]
  },
  {
   "cell_type": "code",
   "execution_count": 140,
   "metadata": {
    "collapsed": true
   },
   "outputs": [],
   "source": [
    "def solveEquation(A,x=None,b=None):\n",
    "    if x is None:\n",
    "        result = np.dot(my_inverse(A), b)\n",
    "    elif b is None:\n",
    "        result = np.dot(A, x)\n",
    "    else :\n",
    "        if sum(np.dot(A,x) == b) == len(A):\n",
    "            result = 'Correct'\n",
    "        else :\n",
    "            result = \"Incorrect\"\n",
    "    return result"
   ]
  },
  {
   "cell_type": "code",
   "execution_count": 149,
   "metadata": {
    "collapsed": true
   },
   "outputs": [],
   "source": [
    "x = np.matrix([1,2,3]).transpose()\n",
    "b= np.matrix([14,29,50]).transpose()"
   ]
  },
  {
   "cell_type": "code",
   "execution_count": 150,
   "metadata": {},
   "outputs": [
    {
     "data": {
      "text/plain": [
       "matrix([[14],\n",
       "        [29],\n",
       "        [50]])"
      ]
     },
     "execution_count": 150,
     "metadata": {},
     "output_type": "execute_result"
    }
   ],
   "source": [
    "solveEquation(A = mat, x=x) # b 산출"
   ]
  },
  {
   "cell_type": "code",
   "execution_count": 152,
   "metadata": {
    "scrolled": true
   },
   "outputs": [
    {
     "data": {
      "text/plain": [
       "matrix([[1.],\n",
       "        [2.],\n",
       "        [3.]])"
      ]
     },
     "execution_count": 152,
     "metadata": {},
     "output_type": "execute_result"
    }
   ],
   "source": [
    "solveEquation(A = mat, b=b) # x 산출"
   ]
  },
  {
   "cell_type": "code",
   "execution_count": 151,
   "metadata": {},
   "outputs": [
    {
     "data": {
      "text/plain": [
       "'Correct'"
      ]
     },
     "execution_count": 151,
     "metadata": {},
     "output_type": "execute_result"
    }
   ],
   "source": [
    "solveEquation(A = mat, x=x, b=b) # 결과 확인 "
   ]
  }
 ],
 "metadata": {
  "anaconda-cloud": {},
  "kernelspec": {
   "display_name": "Python [conda root]",
   "language": "python",
   "name": "conda-root-py"
  },
  "language_info": {
   "codemirror_mode": {
    "name": "ipython",
    "version": 3
   },
   "file_extension": ".py",
   "mimetype": "text/x-python",
   "name": "python",
   "nbconvert_exporter": "python",
   "pygments_lexer": "ipython3",
   "version": "3.6.3"
  }
 },
 "nbformat": 4,
 "nbformat_minor": 2
}
