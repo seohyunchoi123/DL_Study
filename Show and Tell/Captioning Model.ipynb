{
 "cells": [
  {
   "cell_type": "code",
   "execution_count": 214,
   "metadata": {
    "collapsed": true
   },
   "outputs": [],
   "source": [
    "import numpy as np\n",
    "import matplotlib.pyplot as plt\n",
    "from PIL import Image, ImageFilter\n",
    "import pickle\n",
    "import os\n",
    "from datetime import datetime\n",
    "import json\n",
    "import tensorflow as tf\n",
    "from matplotlib.pyplot import imshow"
   ]
  },
  {
   "cell_type": "markdown",
   "metadata": {},
   "source": [
    "# Reading the photos"
   ]
  },
  {
   "cell_type": "code",
   "execution_count": 2,
   "metadata": {
    "scrolled": true
   },
   "outputs": [
    {
     "data": {
      "text/plain": [
       "'C:\\\\Users\\\\CSH\\\\Desktop\\\\투빅스 프로젝트 2'"
      ]
     },
     "execution_count": 2,
     "metadata": {},
     "output_type": "execute_result"
    }
   ],
   "source": [
    "os.getcwd() "
   ]
  },
  {
   "cell_type": "code",
   "execution_count": 3,
   "metadata": {
    "collapsed": true
   },
   "outputs": [],
   "source": [
    "image_dir = 'C:\\\\Users\\\\CSH\\\\Desktop\\\\투빅스 프로젝트 2/train/'"
   ]
  },
  {
   "cell_type": "code",
   "execution_count": 4,
   "metadata": {},
   "outputs": [
    {
     "name": "stdout",
     "output_type": "stream",
     "text": [
      "C:\\Users\\CSH\\Desktop\\투빅스 프로젝트 2/train/\n",
      "[]\n",
      "['000000000139.jpg', '000000000285.jpg', '000000000632.jpg', '000000000724.jpg', '000000000776.jpg', '000000000785.jpg', '000000000802.jpg', '000000000872.jpg', '000000000885.jpg', '000000001000.jpg']\n"
     ]
    }
   ],
   "source": [
    "for path, dir, files in os.walk(image_dir):\n",
    "    print(path)\n",
    "    print(dir)\n",
    "    print(files) # 이렇게다 파일들로 들어가서 그안의 목록들까지 보는구나 "
   ]
  },
  {
   "cell_type": "code",
   "execution_count": 5,
   "metadata": {
    "collapsed": true
   },
   "outputs": [],
   "source": [
    "train_x = []\n",
    "resizing = (32, 32)\n",
    "\n",
    "for path, dir, files in os.walk(image_dir):\n",
    "    for file in files:\n",
    "        image_dir = path + '/' + file \n",
    "        img = Image.open(image_dir)\n",
    "        img = img.resize(resizing)\n",
    "        if not img.format == \"RGB\": # 이미지의 포맷이 RGB가 아닐 경우, RGB로 convert 시킴\n",
    "            img = img.convert(\"RGB\")\n",
    "        train_x.append(np.array(img))"
   ]
  },
  {
   "cell_type": "code",
   "execution_count": 6,
   "metadata": {
    "collapsed": true
   },
   "outputs": [],
   "source": [
    "images = train_x "
   ]
  },
  {
   "cell_type": "code",
   "execution_count": 7,
   "metadata": {
    "collapsed": true
   },
   "outputs": [],
   "source": [
    "sentences = ['A woman is talking to an old lady outside through window.',\n",
    "          'A bear is looking somewhere on the grass.',\n",
    "          'A room with blue bed and full shelf of books and dressing table.',\n",
    "          'A stop sign on street is turned over',\n",
    "          'Three bear dolls are aligned',\n",
    "          'A woman in red ski jacket is skiing.',\n",
    "          'A kitchen with white oven and white fridge.',\n",
    "          'Two men are playing basket ball.',\n",
    "          'A mann is playing tennis in a match.',\n",
    "          'A group of people are standing on batminton court.',\n",
    "          ]"
   ]
  },
  {
   "cell_type": "code",
   "execution_count": 8,
   "metadata": {
    "collapsed": true,
    "scrolled": true
   },
   "outputs": [],
   "source": [
    "x_sen = []\n",
    "y_sen = []\n",
    "seq_len =[]\n",
    "max_len = 0\n",
    "for sentence in sentences:\n",
    "    t = sentence.split(' ')\n",
    "    max_len = max(max_len, len(t))\n",
    "    x_sen.append(t) # 나중에 x_sen에는 image 값 벡터가 하나 더 붙을꺼다. \n",
    "    y_sen.append(t)\n",
    "    seq_len.append(len(t)+2) # x_image,start, end tocken까지 고려해서 ! \n"
   ]
  },
  {
   "cell_type": "code",
   "execution_count": 9,
   "metadata": {},
   "outputs": [
    {
     "data": {
      "text/plain": [
       "[13, 10, 15, 10, 7, 10, 10, 8, 10, 11]"
      ]
     },
     "execution_count": 9,
     "metadata": {},
     "output_type": "execute_result"
    }
   ],
   "source": [
    "seq_len"
   ]
  },
  {
   "cell_type": "code",
   "execution_count": 10,
   "metadata": {
    "collapsed": true
   },
   "outputs": [],
   "source": [
    "a=[]\n",
    "b=[]\n",
    "for x,y in zip(x_sen,y_sen):\n",
    "    a =  a + [['<START>'] + x + ['<PAD>'] * (max_len-len(x))]\n",
    "    b =  b + [['<START>']  + y + ['<PAD>'] * (max_len-len(y)) + ['<END>']] # 이거 제대로 되는지 확인하고 x,y 인풋들 다 idx로 바꾸자 180502 \n",
    "x_sen = a\n",
    "y_sen = b"
   ]
  },
  {
   "cell_type": "code",
   "execution_count": 13,
   "metadata": {
    "collapsed": true
   },
   "outputs": [],
   "source": [
    "#dic 만들기\n",
    "idx_to_ch = {}\n",
    "ch_to_idx = {}\n",
    "for idx, ch in enumerate(set(' '.join(sentences).split(' ') + ['<START>', '<END>', '<PAD>'])):\n",
    "    idx_to_ch[idx]= ch\n",
    "    ch_to_idx[ch]= idx"
   ]
  },
  {
   "cell_type": "code",
   "execution_count": 14,
   "metadata": {
    "collapsed": true
   },
   "outputs": [],
   "source": [
    "a=1"
   ]
  },
  {
   "cell_type": "code",
   "execution_count": 16,
   "metadata": {
    "collapsed": true
   },
   "outputs": [],
   "source": [
    "a=[]\n",
    "b=[]\n",
    "for x_words in x_sen:\n",
    "    t1=[]\n",
    "    for x_word in x_words:\n",
    "        t1.append(ch_to_idx[x_word])\n",
    "    a.append(t1)\n",
    "    \n",
    "for y_words in y_sen:\n",
    "    t1=[]\n",
    "    for y_word in y_words:\n",
    "        t1.append(ch_to_idx[y_word])\n",
    "    b.append(t1)\n",
    "x_sen=a\n",
    "y_sen=b"
   ]
  },
  {
   "cell_type": "code",
   "execution_count": 20,
   "metadata": {
    "collapsed": true
   },
   "outputs": [],
   "source": [
    "hidden_dim = 200\n",
    "batch_size = len(sentences)\n",
    "n_class = len(idx_to_ch)\n",
    "n_stack = 2"
   ]
  },
  {
   "cell_type": "code",
   "execution_count": 23,
   "metadata": {
    "scrolled": false
   },
   "outputs": [
    {
     "data": {
      "text/plain": [
       "13"
      ]
     },
     "execution_count": 23,
     "metadata": {},
     "output_type": "execute_result"
    }
   ],
   "source": [
    "max_len"
   ]
  },
  {
   "cell_type": "code",
   "execution_count": 62,
   "metadata": {},
   "outputs": [
    {
     "data": {
      "text/plain": [
       "(10, 14)"
      ]
     },
     "execution_count": 62,
     "metadata": {},
     "output_type": "execute_result"
    }
   ],
   "source": [
    "np.shape(x_sen)"
   ]
  },
  {
   "cell_type": "markdown",
   "metadata": {},
   "source": [
    "### CNN"
   ]
  },
  {
   "cell_type": "code",
   "execution_count": 64,
   "metadata": {
    "collapsed": true
   },
   "outputs": [],
   "source": [
    "tf.reset_default_graph()"
   ]
  },
  {
   "cell_type": "code",
   "execution_count": 65,
   "metadata": {
    "collapsed": true
   },
   "outputs": [],
   "source": [
    "x_image = tf.placeholder(dtype=tf.float32, shape=[batch_size,32,32,3]) # 이미지 데이터의 경우 shape은 [number, height, width, channels] 순이다\n",
    "x_sentences = tf.placeholder(shape=[batch_size, max_len+1], dtype=tf.int32)\n",
    "y_sentences = tf.placeholder(shape=[batch_size, max_len+2], dtype=tf.int32)"
   ]
  },
  {
   "cell_type": "code",
   "execution_count": 66,
   "metadata": {
    "collapsed": true
   },
   "outputs": [],
   "source": [
    "x_train = tf.one_hot(x_sentences, depth=n_class)\n",
    "y_train = tf.one_hot(y_sentences, depth=n_class)"
   ]
  },
  {
   "cell_type": "code",
   "execution_count": 67,
   "metadata": {
    "collapsed": true
   },
   "outputs": [],
   "source": [
    "with tf.name_scope(\"First_Layer\") as scope: \n",
    "    w1 = tf.Variable(tf.random_normal(shape=[3,3,3,32], stddev=0.01), name = \"W1\") # shape !!!!!!!!!!\n",
    "    L1 = tf.nn.conv2d(input= x_image, filter= w1, strides=[1,1,1,1], padding='SAME', name=\"L1\")\n",
    "    \n",
    "    L1 = tf.nn.relu(L1)\n",
    "    L1 = tf.nn.max_pool(L1, ksize=[1,2,2,1],  strides= [1,2,2,1], padding='SAME')"
   ]
  },
  {
   "cell_type": "code",
   "execution_count": 68,
   "metadata": {
    "collapsed": true,
    "scrolled": true
   },
   "outputs": [],
   "source": [
    "with tf.name_scope(\"Second_Layer\") as scope:  \n",
    "    w2 = tf.Variable(tf.random_normal(shape=[3,3,32,64], stddev=0.01))\n",
    "    L2 = tf.nn.conv2d(input= L1, filter= w2, strides=[1,1,1,1], padding='SAME') \n",
    "    L2 = tf.nn.relu(L2)\n",
    "    L2 = tf.nn.max_pool(L2, ksize=[1,2,2,1],  strides= [1,2,2,1], padding='SAME')"
   ]
  },
  {
   "cell_type": "code",
   "execution_count": 69,
   "metadata": {
    "collapsed": true,
    "scrolled": true
   },
   "outputs": [],
   "source": [
    "L2 = tf.reshape(tensor = L2, shape=[batch_size, 1, 8*8*64])"
   ]
  },
  {
   "cell_type": "markdown",
   "metadata": {},
   "source": [
    "### LSTM"
   ]
  },
  {
   "cell_type": "code",
   "execution_count": 70,
   "metadata": {},
   "outputs": [
    {
     "data": {
      "text/plain": [
       "<tf.Tensor 'Reshape:0' shape=(10, 1, 4096) dtype=float32>"
      ]
     },
     "execution_count": 70,
     "metadata": {},
     "output_type": "execute_result"
    }
   ],
   "source": [
    "L2"
   ]
  },
  {
   "cell_type": "code",
   "execution_count": 71,
   "metadata": {
    "collapsed": true,
    "scrolled": true
   },
   "outputs": [],
   "source": [
    "# state_from_cnn 만들기 \n",
    "w_init = tf.get_variable(shape=[batch_size,8*8*64, n_class], name='w_init')\n",
    "b_init = tf.get_variable(shape=[n_class], name='b_init')"
   ]
  },
  {
   "cell_type": "code",
   "execution_count": 72,
   "metadata": {
    "collapsed": true,
    "scrolled": true
   },
   "outputs": [],
   "source": [
    "image_input = tf.add(tf.matmul(L2, w_init), b_init)"
   ]
  },
  {
   "cell_type": "code",
   "execution_count": 73,
   "metadata": {},
   "outputs": [
    {
     "data": {
      "text/plain": [
       "<tf.Tensor 'Add:0' shape=(10, 1, 63) dtype=float32>"
      ]
     },
     "execution_count": 73,
     "metadata": {},
     "output_type": "execute_result"
    }
   ],
   "source": [
    "image_input"
   ]
  },
  {
   "cell_type": "code",
   "execution_count": 74,
   "metadata": {
    "collapsed": true
   },
   "outputs": [],
   "source": [
    "w_hy = tf.get_variable(shape=[hidden_dim, n_class], name='w_hy')\n",
    "b_hy = tf.get_variable(shape=[n_class], name='b_hy')\n",
    "weight = tf.ones(shape = [batch_size, max_len+2]) # 아니 seq_length 가 문장마다 다다른데 어떻게 해야대 ..?"
   ]
  },
  {
   "cell_type": "code",
   "execution_count": 75,
   "metadata": {},
   "outputs": [
    {
     "data": {
      "text/plain": [
       "<tf.Tensor 'concat:0' shape=(10, 15, 63) dtype=float32>"
      ]
     },
     "execution_count": 75,
     "metadata": {},
     "output_type": "execute_result"
    }
   ],
   "source": [
    "tf.concat([image_input, x_train], axis=1)"
   ]
  },
  {
   "cell_type": "code",
   "execution_count": 76,
   "metadata": {
    "collapsed": true
   },
   "outputs": [],
   "source": [
    "cell = tf.nn.rnn_cell.MultiRNNCell([tf.nn.rnn_cell.LSTMCell(num_units= hidden_dim, state_is_tuple=True) for _ in range(n_stack)], state_is_tuple=True)"
   ]
  },
  {
   "cell_type": "code",
   "execution_count": null,
   "metadata": {
    "collapsed": true
   },
   "outputs": [],
   "source": [
    "output, _state = tf.nn.dynamic_rnn(cell, inputs= tf.concat([image_input, x_train], axis=1), sequence_length=seq_len, dtype=tf.float32) # x_train은 onehot 변형된 상태임!!!\n",
    "output = tf.reshape(output, [-1,hidden_dim])\n",
    "output = tf.add(tf.matmul(output, w_hy), b_hy)\n",
    "output = tf.reshape(output, shape=[batch_size, max_len+2, n_class])\n",
    "sequence_loss = tf.contrib.seq2seq.sequence_loss(logits= output, targets=y_sentences, weights=weight) # taraget은 onehot 변환 전의 상태로! "
   ]
  },
  {
   "cell_type": "code",
   "execution_count": 78,
   "metadata": {},
   "outputs": [
    {
     "data": {
      "text/plain": [
       "<tf.Tensor 'ArgMax:0' shape=(10, 15) dtype=int64>"
      ]
     },
     "execution_count": 78,
     "metadata": {},
     "output_type": "execute_result"
    }
   ],
   "source": [
    "tf.argmax(output,2)"
   ]
  },
  {
   "cell_type": "code",
   "execution_count": 79,
   "metadata": {
    "collapsed": true,
    "scrolled": true
   },
   "outputs": [],
   "source": [
    "optimizer = tf.train.AdamOptimizer(learning_rate=0.01)\n",
    "train = optimizer.minimize(loss=sequence_loss)\n",
    "prediction = tf.argmax(output, axis=2)"
   ]
  },
  {
   "cell_type": "markdown",
   "metadata": {},
   "source": [
    "### 학습 시작"
   ]
  },
  {
   "cell_type": "code",
   "execution_count": 87,
   "metadata": {
    "collapsed": true
   },
   "outputs": [],
   "source": [
    "ite = 1000"
   ]
  },
  {
   "cell_type": "code",
   "execution_count": 88,
   "metadata": {
    "scrolled": true
   },
   "outputs": [
    {
     "name": "stdout",
     "output_type": "stream",
     "text": [
      "window. window. window. an an an an an an an an window. window. jacket jacket\n",
      "<START> A woman is is talking to to to old old old old <END> <END>\n",
      "<START> A woman is talking to an old lady outside through window. <PAD> <PAD> <PAD>\n",
      "<START> A woman is talking to an old lady outside through window. <PAD> <PAD> <PAD>\n",
      "<START> A woman is talking to an old lady outside through window. <PAD> <PAD> <PAD>\n",
      "<START> A woman is talking to an old lady outside through window. <PAD> <PAD> <PAD>\n",
      "<START> A woman is talking to an old lady outside through window. <PAD> <PAD> <PAD>\n",
      "<START> A woman is talking to an old lady outside through window. <PAD> <PAD> <PAD>\n",
      "<START> A woman is talking to an old lady outside through window. <PAD> <PAD> <PAD>\n",
      "<START> A woman is talking to an old lady outside through window. <PAD> <PAD> <PAD>\n"
     ]
    }
   ],
   "source": [
    "sess = tf.Session()\n",
    "sess.run(tf.global_variables_initializer())\n",
    "for i in range(ite):\n",
    "    sess.run(train, feed_dict={x_sentences : x_sen, y_sentences : y_sen, x_image:images})\n",
    "    if i % 100 ==0 : \n",
    "        t = sess.run(prediction, feed_dict={x_sentences : x_sen, x_image:images})\n",
    "        print(\" \".join([idx_to_ch[tt] for tt in t[0]]))"
   ]
  },
  {
   "cell_type": "markdown",
   "metadata": {},
   "source": [
    "### 테스트"
   ]
  },
  {
   "cell_type": "code",
   "execution_count": 199,
   "metadata": {},
   "outputs": [
    {
     "name": "stdout",
     "output_type": "stream",
     "text": [
      "<START> A woman is talking to an old lady outside through window. <PAD> <PAD> <PAD>\n"
     ]
    }
   ],
   "source": [
    "t = sess.run(prediction, feed_dict={x_sentences : x_sen, x_image:images})\n",
    "print(\" \".join([idx_to_ch[tt] for tt in t[0]]))"
   ]
  },
  {
   "cell_type": "code",
   "execution_count": 223,
   "metadata": {},
   "outputs": [
    {
     "name": "stdout",
     "output_type": "stream",
     "text": [
      "<START> A woman in red ski jacket is skiing. <PAD> <PAD> <PAD> <PAD> <PAD> "
     ]
    },
    {
     "data": {
      "image/png": "[encoded data removed]",
      "text/plain": [
       "<matplotlib.figure.Figure at 0x237bd8f51d0>"
      ]
     },
     "metadata": {},
     "output_type": "display_data"
    }
   ],
   "source": [
    "image_idx=5\n",
    "\n",
    "test_x = [[-1]*(max_len+1)]*batch_size\n",
    "for i in range(max_len+1):  \n",
    "    t = sess.run(prediction, feed_dict={x_sentences : test_x, x_image:images}) # 여기서 새 이미지를 batch_size만큼 묶어서 넣으면됨 .\n",
    "    test_x[image_idx][i] = t[image_idx][i]\n",
    "    #print(test_x[image_idx]) # 이전단어로 하나씩 인풋을 업그레이드 해나가는 것을 확인할 수 있다.\n",
    "    print(idx_to_ch[t[image_idx][i]], end=' ')\n",
    "imshow(images[image_idx])\n",
    "plt.show()"
   ]
  }
 ],
 "metadata": {
  "anaconda-cloud": {},
  "kernelspec": {
   "display_name": "Python [conda root]",
   "language": "python",
   "name": "conda-root-py"
  },
  "language_info": {
   "codemirror_mode": {
    "name": "ipython",
    "version": 3
   },
   "file_extension": ".py",
   "mimetype": "text/x-python",
   "name": "python",
   "nbconvert_exporter": "python",
   "pygments_lexer": "ipython3",
   "version": "3.6.3"
  }
 },
 "nbformat": 4,
 "nbformat_minor": 1
}
