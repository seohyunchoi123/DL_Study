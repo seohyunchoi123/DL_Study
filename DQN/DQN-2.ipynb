{
 "cells": [
  {
   "cell_type": "code",
   "execution_count": 1,
   "metadata": {},
   "outputs": [
    {
     "name": "stderr",
     "output_type": "stream",
     "text": [
      "C:\\Users\\CSH\\Anaconda3\\lib\\site-packages\\h5py\\__init__.py:34: FutureWarning: Conversion of the second argument of issubdtype from `float` to `np.floating` is deprecated. In future, it will be treated as `np.float64 == np.dtype(float).type`.\n",
      "  from ._conv import register_converters as _register_converters\n"
     ]
    }
   ],
   "source": [
    "import tensorflow as tf\n",
    "import numpy as np\n",
    "import gym\n",
    "import matplotlib.pyplot as plt\n",
    "from gym.envs.registration import register\n",
    "import random\n",
    "\n",
    "register(\n",
    "    id='FrozenLake-v3',\n",
    "    entry_point='gym.envs.toy_text:FrozenLakeEnv',\n",
    "    kwargs={'map_name':'4x4',\n",
    "           'is_slippery':True}\n",
    ")\n",
    "\n",
    "env = gym.make('FrozenLake-v3')"
   ]
  },
  {
   "cell_type": "code",
   "execution_count": 27,
   "metadata": {
    "collapsed": true
   },
   "outputs": [],
   "source": [
    "input_size = env.observation_space.n # 16\n",
    "hidden_size = 50\n",
    "output_size = env.action_space.n # 4\n",
    "\n",
    "def one_hot(a):\n",
    "    t=np.zeros(input_size)\n",
    "    t[a]=1\n",
    "    t = np.reshape(t,[1,input_size])\n",
    "    return(t)\n",
    "\n",
    "tf.reset_default_graph()\n",
    "x = tf.placeholder(tf.float32, shape=[None,input_size])\n",
    "w1 = tf.get_variable(shape=[input_size, hidden_size], name='w1', initializer=tf.contrib.layers.xavier_initializer())\n",
    "w2 = tf.get_variable(shape=[hidden_size, output_size], name='w2', initializer=tf.contrib.layers.xavier_initializer())\n",
    "y = tf.placeholder(tf.float32, shape=[None,output_size])\n",
    "\n",
    "layer1 = tf.matmul(x,w1)\n",
    "layer1 = tf.nn.tanh(layer1)\n",
    "Qpred = tf.matmul(layer1,w2)\n",
    "loss = tf.reduce_mean(tf.square(y-Qpred))\n",
    "train = tf.train.GradientDescentOptimizer(learning_rate=0.1).minimize(loss)\n",
    "\n",
    "n_episode=1000\n",
    "dis = 0.9\n",
    "rList=[]"
   ]
  },
  {
   "cell_type": "code",
   "execution_count": 28,
   "metadata": {
    "collapsed": true
   },
   "outputs": [],
   "source": [
    "sess = tf.Session()\n",
    "sess.run(tf.global_variables_initializer())"
   ]
  },
  {
   "cell_type": "code",
   "execution_count": 29,
   "metadata": {},
   "outputs": [
    {
     "name": "stdout",
     "output_type": "stream",
     "text": [
      "0.23032345\n",
      "0.018810771\n",
      "0.11974033\n",
      "0.10643339\n",
      "0.12272897\n"
     ]
    }
   ],
   "source": [
    "for episode in range(n_episode):\n",
    "    state =env.reset() # env.reset하면 자기 현재 state가 0으로 돌아감 \n",
    "    done = False\n",
    "    e = 1/(10 + episode/50)\n",
    "    while not done:\n",
    "        Qs = sess.run(Qpred, feed_dict={x:one_hot(state)})\n",
    "        action = np.argmax(Qs)\n",
    "        if np.random.rand(1) < e:\n",
    "            action = np.random.choice(output_size,1)[0]\n",
    "        new_state, reward, done, _ = env.step(action)\n",
    "        if not done:\n",
    "            Qs[0, action] = reward + dis*np.max(sess.run(Qpred, feed_dict={x:one_hot(new_state)}))\n",
    "        else:\n",
    "            Qs[0,action] = reward\n",
    "        sess.run(train, feed_dict={x:one_hot(state), y:Qs})    \n",
    "        state=new_state\n",
    "    rList.append(reward)\n",
    "    if episode %200 ==0:\n",
    "        print(sess.run(loss, feed_dict={x:one_hot(state), y:Qs}))"
   ]
  },
  {
   "cell_type": "code",
   "execution_count": 30,
   "metadata": {
    "scrolled": true
   },
   "outputs": [
    {
     "data": {
      "text/plain": [
       "218.0"
      ]
     },
     "execution_count": 30,
     "metadata": {},
     "output_type": "execute_result"
    }
   ],
   "source": [
    "sum(rList)"
   ]
  },
  {
   "cell_type": "code",
   "execution_count": 31,
   "metadata": {},
   "outputs": [
    {
     "data": {
      "image/png": "[encoded data removed]",
      "text/plain": [
       "<matplotlib.figure.Figure at 0x231cbe9ab38>"
      ]
     },
     "metadata": {},
     "output_type": "display_data"
    }
   ],
   "source": [
    "plt.bar(range(len(rList)), rList)\n",
    "plt.show()"
   ]
  },
  {
   "cell_type": "markdown",
   "metadata": {},
   "source": [
    "### Repository"
   ]
  },
  {
   "cell_type": "code",
   "execution_count": 44,
   "metadata": {},
   "outputs": [
    {
     "name": "stdout",
     "output_type": "stream",
     "text": [
      "0.04012757\n",
      "0.061462782\n",
      "0.024506068\n",
      "0.020722842\n",
      "0.008266528\n",
      "0.019398\n",
      "0.052491076\n",
      "0.061832875\n",
      "0.018118264\n",
      "0.05117269\n",
      "0.025225146\n",
      "0.01710534\n",
      "0.017124416\n",
      "0.01749167\n",
      "0.053027228\n"
     ]
    }
   ],
   "source": [
    "input_size = env.observation_space.n # 16\n",
    "hidden_size = 50\n",
    "output_size = env.action_space.n # 4\n",
    "\n",
    "def one_hot(a):\n",
    "    t=np.zeros(input_size)\n",
    "    t[a]=1\n",
    "    t = np.reshape(t,[1,input_size])\n",
    "    return(t)\n",
    "\n",
    "tf.reset_default_graph()\n",
    "x = tf.placeholder(tf.float32, shape=[None,input_size])\n",
    "w1 = tf.get_variable(shape=[input_size, hidden_size], name='w1', initializer=tf.contrib.layers.xavier_initializer())\n",
    "w2 = tf.get_variable(shape=[hidden_size, output_size], name='w2', initializer=tf.contrib.layers.xavier_initializer())\n",
    "y = tf.placeholder(tf.float32, shape=[None,output_size])\n",
    "\n",
    "layer1 = tf.matmul(x,w1)\n",
    "layer1 = tf.nn.tanh(layer1)\n",
    "Qpred = tf.matmul(layer1,w2)\n",
    "loss = tf.reduce_mean(tf.square(y-Qpred))\n",
    "train = tf.train.GradientDescentOptimizer(learning_rate=0.1).minimize(loss)\n",
    "\n",
    "n_episode=3000\n",
    "dis = 0.9\n",
    "rList=[]\n",
    "repository=[]\n",
    "\n",
    "sess = tf.Session()\n",
    "sess.run(tf.global_variables_initializer())\n",
    "\n",
    "for episode in range(n_episode):\n",
    "    state =env.reset() # env.reset하면 자기 현재 state가 0으로 돌아감 \n",
    "    done = False\n",
    "    e = 1/(10 + episode/50)\n",
    "    while not done:\n",
    "        Qs = sess.run(Qpred, feed_dict={x:one_hot(state)})\n",
    "        action = np.argmax(Qs)\n",
    "        if np.random.rand(1) < e:\n",
    "            action = np.random.choice(output_size,1)[0]\n",
    "        new_state, reward, done, _ = env.step(action)\n",
    "        repository.append((state, action, new_state, reward, done))\n",
    "        state=new_state\n",
    "        \n",
    "    if episode%10==1:\n",
    "        \n",
    "        for _ in range(50):\n",
    "            x_stack = np.empty(0).reshape(0, input_size)\n",
    "            y_stack = np.empty(0).reshape(0, output_size) # x_stack, y_stack 초기화가 여기잇어야돼지안나? 이 for문 위에 잇는건 좀말이안댐 \n",
    "            groups = random.sample(repository,10)           # 여기잇는거 맞다 \n",
    "            for group in groups:\n",
    "                state, action, new_state, reward, done = group\n",
    "                Qs = sess.run(Qpred, feed_dict={x:one_hot(state)})\n",
    "                if not done:\n",
    "                    Qs[0,action] = reward + dis* np.max(sess.run(Qpred, feed_dict={x:one_hot(new_state)}))\n",
    "                else:\n",
    "                    Qs[0,action] = reward\n",
    "                x_stack = np.vstack([x_stack, one_hot(state)]) # state를 넣으면 update된 qs값이 나오도록 network를 학습하자 ! \n",
    "                y_stack = np.vstack([y_stack, Qs])\n",
    "            sess.run(train, feed_dict={x:x_stack, y:y_stack})     \n",
    "    rList.append(reward)\n",
    "    if episode %200 ==0:\n",
    "        print(sess.run(loss, feed_dict={x:one_hot(state), y:Qs}))"
   ]
  },
  {
   "cell_type": "code",
   "execution_count": 45,
   "metadata": {
    "scrolled": true
   },
   "outputs": [
    {
     "data": {
      "text/plain": [
       "219.0"
      ]
     },
     "execution_count": 45,
     "metadata": {},
     "output_type": "execute_result"
    }
   ],
   "source": [
    "sum(rList)"
   ]
  },
  {
   "cell_type": "code",
   "execution_count": 46,
   "metadata": {},
   "outputs": [
    {
     "data": {
      "image/png": "[encoded data removed]",
      "text/plain": [
       "<matplotlib.figure.Figure at 0x231ce497e48>"
      ]
     },
     "metadata": {},
     "output_type": "display_data"
    }
   ],
   "source": [
    "plt.bar(range(len(rList)), rList)\n",
    "plt.show()"
   ]
  }
 ],
 "metadata": {
  "anaconda-cloud": {},
  "kernelspec": {
   "display_name": "Python [default]",
   "language": "python",
   "name": "python3"
  },
  "language_info": {
   "codemirror_mode": {
    "name": "ipython",
    "version": 3
   },
   "file_extension": ".py",
   "mimetype": "text/x-python",
   "name": "python",
   "nbconvert_exporter": "python",
   "pygments_lexer": "ipython3",
   "version": "3.6.3"
  }
 },
 "nbformat": 4,
 "nbformat_minor": 2
}
