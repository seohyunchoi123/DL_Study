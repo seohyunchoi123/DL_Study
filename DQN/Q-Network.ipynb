{
 "cells": [
  {
   "cell_type": "code",
   "execution_count": 1,
   "metadata": {},
   "outputs": [
    {
     "name": "stderr",
     "output_type": "stream",
     "text": [
      "C:\\Users\\CSH\\Anaconda3\\lib\\site-packages\\h5py\\__init__.py:34: FutureWarning: Conversion of the second argument of issubdtype from `float` to `np.floating` is deprecated. In future, it will be treated as `np.float64 == np.dtype(float).type`.\n",
      "  from ._conv import register_converters as _register_converters\n"
     ]
    }
   ],
   "source": [
    "import gym\n",
    "import tensorflow as tf\n",
    "import numpy as np\n",
    "import matplotlib.pyplot as plt\n",
    "from gym.envs.registration import register"
   ]
  },
  {
   "cell_type": "code",
   "execution_count": 2,
   "metadata": {
    "collapsed": true
   },
   "outputs": [],
   "source": [
    "register(\n",
    "    id='FrozenLake-v3',\n",
    "    entry_point='gym.envs.toy_text:FrozenLakeEnv',\n",
    "    kwargs={'map_name':'4x4',\n",
    "           'is_slippery':False}\n",
    ")"
   ]
  },
  {
   "cell_type": "code",
   "execution_count": 51,
   "metadata": {
    "scrolled": true
   },
   "outputs": [
    {
     "name": "stdout",
     "output_type": "stream",
     "text": [
      "\n",
      "\u001b[41mS\u001b[0mFFF\n",
      "FHFH\n",
      "FFFH\n",
      "HFFG\n"
     ]
    }
   ],
   "source": [
    "env = gym.make('FrozenLake-v3')\n",
    "env.render()"
   ]
  },
  {
   "cell_type": "code",
   "execution_count": 52,
   "metadata": {
    "collapsed": true
   },
   "outputs": [],
   "source": [
    "def one_hot(t):\n",
    "    a = np.zeros(env.observation_space.n)\n",
    "    a[t]=1\n",
    "    return(a)"
   ]
  },
  {
   "cell_type": "code",
   "execution_count": 53,
   "metadata": {
    "collapsed": true,
    "scrolled": true
   },
   "outputs": [],
   "source": [
    "tf.reset_default_graph()\n",
    "x = tf.placeholder(tf.float32, [1, 16])\n",
    "w = tf.get_variable(\"w\", shape=[16,4], \n",
    "                    initializer=tf.contrib.layers.xavier_initializer())\n",
    "Y = tf.placeholder(tf.float32, [1,4]) # 2차원이야 여기서부터. 그래서 아웃풋도 2차원인거임 \n",
    "Qpred = tf.matmul(x,w)\n",
    "loss =  tf.reduce_sum(tf.square(Y - Qpred))\n",
    "train = tf.train.GradientDescentOptimizer(learning_rate=0.1).minimize(loss)"
   ]
  },
  {
   "cell_type": "code",
   "execution_count": 58,
   "metadata": {
    "collapsed": true
   },
   "outputs": [],
   "source": [
    "dis = 0.99\n",
    "num_episodes =2000\n",
    "rList=[]"
   ]
  },
  {
   "cell_type": "code",
   "execution_count": 59,
   "metadata": {},
   "outputs": [
    {
     "data": {
      "text/plain": [
       "0.9435"
      ]
     },
     "execution_count": 59,
     "metadata": {},
     "output_type": "execute_result"
    }
   ],
   "source": [
    "sess= tf.Session()\n",
    "sess.run(tf.global_variables_initializer())\n",
    "\n",
    "for i in range(num_episodes): \n",
    "    state=env.reset()\n",
    "    rAll=0\n",
    "    done=False\n",
    "    e = 1.0/((i/50)+10) # 0.1 ~ 0.02 범위를 가짐 \n",
    "    while not done:\n",
    "        Q = sess.run(Qpred, feed_dict={x:np.reshape(one_hot(state),[1,16])}) # 이렇게하면 2차원 나온다. [1,4] 모양으로. \n",
    "        if np.random.rand(1)<e: # e-greedy로 해야한다. 노이즈로하면 x*w에 비해 숫자들이 너무 커서 학습이 반영이 안됨 . \n",
    "            action = env.action_space.sample()\n",
    "        else:\n",
    "            action= np.argmax(Q + np.random.randn(1,4)/(i+1)) # 왜 Q가 아니고 np.max(Q)로 돼잇엇지 ?? 수정해봣다 과연 ? ....... 아뭐야 여전히 0.05 \n",
    "        new_state, reward, done, _= env.step(action)\n",
    "        if not done: # 안끝났으면 \n",
    "            Q[0,action] =  reward + dis * np.max(sess.run(Qpred, feed_dict={x:np.reshape(one_hot(new_state),[1,16])})) # new_state와 state 차이를 잘 구별해라 !!!! \n",
    "        else: # 끝났으면 \n",
    "            Q[0,action] =  reward\n",
    "        rAll +=reward \n",
    "        sess.run(train, feed_dict={x:np.reshape(one_hot(state),[1,16]), Y:Q}) # !!! \n",
    "        state = new_state\n",
    "    rList.append(rAll) \n",
    "np.sum(rList)/num_episodes # success rate \n",
    "# 18/6/2 21:00 . 왜캐 구리게나오냐 .. 0.01 ~ 0.05 정도나옴 0.00 도 나오네 ... \n",
    "# 18/6/2 22:00.  noise 말고 e-greedy 쓰니까 94% 나온다. 아니 유투브에서는 50몇프로엿는데 또 왜이러케높아 ??? "
   ]
  },
  {
   "cell_type": "code",
   "execution_count": 38,
   "metadata": {},
   "outputs": [
    {
     "data": {
      "text/plain": [
       "2000"
      ]
     },
     "execution_count": 38,
     "metadata": {},
     "output_type": "execute_result"
    }
   ],
   "source": [
    "len(rList)"
   ]
  },
  {
   "cell_type": "code",
   "execution_count": 39,
   "metadata": {},
   "outputs": [
    {
     "data": {
      "image/png": "[encoded data removed]",
      "text/plain": [
       "<matplotlib.figure.Figure at 0x1c0b2249860>"
      ]
     },
     "metadata": {},
     "output_type": "display_data"
    }
   ],
   "source": [
    "plt.bar(range(len(rList)), rList, color='blue')\n",
    "plt.show()"
   ]
  },
  {
   "cell_type": "code",
   "execution_count": 45,
   "metadata": {},
   "outputs": [
    {
     "name": "stdout",
     "output_type": "stream",
     "text": [
      "\n",
      "\u001b[41mS\u001b[0mFFF\n",
      "FHFH\n",
      "FFFH\n",
      "HFFG\n"
     ]
    }
   ],
   "source": [
    "env.reset()\n",
    "env.render()"
   ]
  },
  {
   "cell_type": "code",
   "execution_count": 46,
   "metadata": {},
   "outputs": [
    {
     "name": "stdout",
     "output_type": "stream",
     "text": [
      "  (Up)\n",
      "\u001b[41mS\u001b[0mFFF\n",
      "FHFH\n",
      "FFFH\n",
      "HFFG\n",
      "  (Down)\n",
      "SFFF\n",
      "\u001b[41mF\u001b[0mHFH\n",
      "FFFH\n",
      "HFFG\n",
      "  (Down)\n",
      "SFFF\n",
      "FHFH\n",
      "\u001b[41mF\u001b[0mFFH\n",
      "HFFG\n",
      "  (Right)\n",
      "SFFF\n",
      "FHFH\n",
      "F\u001b[41mF\u001b[0mFH\n",
      "HFFG\n",
      "  (Right)\n",
      "SFFF\n",
      "FHFH\n",
      "FF\u001b[41mF\u001b[0mH\n",
      "HFFG\n",
      "  (Down)\n",
      "SFFF\n",
      "FHFH\n",
      "FFFH\n",
      "HF\u001b[41mF\u001b[0mG\n",
      "  (Right)\n",
      "SFFF\n",
      "FHFH\n",
      "FFFH\n",
      "HFF\u001b[41mG\u001b[0m\n"
     ]
    }
   ],
   "source": [
    "# Q-network가 잘 학습됏는지 확인해보자 \n",
    "done = False\n",
    "env.reset()\n",
    "while not done:\n",
    "    Q = sess.run(Qpred, feed_dict={x:np.reshape(one_hot(state),[1,16])})\n",
    "    action= np.argmax(Q) \n",
    "    state, reward, done, _= env.step(action)\n",
    "    env.render()"
   ]
  },
  {
   "cell_type": "code",
   "execution_count": null,
   "metadata": {
    "collapsed": true
   },
   "outputs": [],
   "source": []
  }
 ],
 "metadata": {
  "anaconda-cloud": {},
  "kernelspec": {
   "display_name": "Python [default]",
   "language": "python",
   "name": "python3"
  },
  "language_info": {
   "codemirror_mode": {
    "name": "ipython",
    "version": 3
   },
   "file_extension": ".py",
   "mimetype": "text/x-python",
   "name": "python",
   "nbconvert_exporter": "python",
   "pygments_lexer": "ipython3",
   "version": "3.6.3"
  }
 },
 "nbformat": 4,
 "nbformat_minor": 2
}
