{
 "cells": [
  {
   "cell_type": "code",
   "execution_count": 1,
   "metadata": {},
   "outputs": [
    {
     "name": "stderr",
     "output_type": "stream",
     "text": [
      "C:\\Users\\CSH\\Anaconda3\\lib\\site-packages\\h5py\\__init__.py:34: FutureWarning: Conversion of the second argument of issubdtype from `float` to `np.floating` is deprecated. In future, it will be treated as `np.float64 == np.dtype(float).type`.\n",
      "  from ._conv import register_converters as _register_converters\n"
     ]
    }
   ],
   "source": [
    "import tensorflow as tf\n",
    "import numpy as np\n",
    "from collections import Counter\n",
    "from Util import batch_renorm, batch_norm\n",
    "import matplotlib.pyplot as plt\n",
    "from PIL import Image\n",
    "import os"
   ]
  },
  {
   "cell_type": "code",
   "execution_count": 2,
   "metadata": {
    "collapsed": true,
    "scrolled": true
   },
   "outputs": [],
   "source": [
    "train_wd = 'C:\\\\Users\\\\CSH\\\\Desktop\\\\image_example\\\\train\\\\'\n",
    "test_wd = 'C:\\\\Users\\\\CSH\\\\Desktop\\\\image_example\\\\test\\\\'\n",
    "resizing=(32,32)\n",
    "\n",
    "train_x = np.empty([1,32,32,3])\n",
    "train_y = np.empty(1)\n",
    "idx=0\n",
    "for path, dir, files in os.walk(train_wd):\n",
    "    if path == train_wd:\n",
    "        ch_to_idx = {idx:t for idx,t in enumerate(dir)}\n",
    "        continue\n",
    "    for file in files[:50]:\n",
    "        image_dir = path + '/' + file \n",
    "        img = Image.open(image_dir)\n",
    "        img = img.resize(resizing)\n",
    "        if not img.format == \"RGB\": # 이미지의 포맷이 RGB가 아닐 경우, RGB로 convert 시킴\n",
    "            img = img.convert(\"RGB\")\n",
    "        train_x = np.vstack([train_x, np.array(img).reshape([1,32,32,3])])\n",
    "        train_y = np.vstack([train_y, idx])\n",
    "    idx+=1"
   ]
  },
  {
   "cell_type": "code",
   "execution_count": 3,
   "metadata": {
    "collapsed": true
   },
   "outputs": [],
   "source": [
    "test_x = np.empty([1,32,32,3])\n",
    "test_y = np.empty(1)\n",
    "idx=0\n",
    "for path, dir, files in os.walk(test_wd):\n",
    "    if path == test_wd:\n",
    "        ch_to_idx = {idx:t for idx,t in enumerate(dir)}\n",
    "        continue\n",
    "    for file in files:\n",
    "        image_dir = path + '/' + file \n",
    "        img = Image.open(image_dir)\n",
    "        img = img.resize(resizing)\n",
    "        if not img.format == \"RGB\": # 이미지의 포맷이 RGB가 아닐 경우, RGB로 convert 시킴\n",
    "            img = img.convert(\"RGB\")\n",
    "        test_x = np.vstack([test_x, np.array(img).reshape([1,32,32,3])])\n",
    "        test_y = np.vstack([test_y, idx])\n",
    "    idx+=1"
   ]
  },
  {
   "cell_type": "code",
   "execution_count": 4,
   "metadata": {
    "collapsed": true
   },
   "outputs": [],
   "source": [
    "train_x = train_x[1:]\n",
    "train_y = train_y[1:]\n",
    "test_x = test_x[1:]\n",
    "test_y = test_y[1:]\n",
    "\n",
    "train_y = train_y.astype(int)\n",
    "train_y = train_y.reshape(-1)\n",
    "test_y = test_y.astype(int)\n",
    "test_y = test_y.reshape(-1)"
   ]
  },
  {
   "cell_type": "code",
   "execution_count": 5,
   "metadata": {},
   "outputs": [
    {
     "name": "stdout",
     "output_type": "stream",
     "text": [
      "(200, 32, 32, 3)\n",
      "(200,)\n",
      "(84, 32, 32, 3)\n",
      "(84,)\n"
     ]
    }
   ],
   "source": [
    "print(np.shape(train_x))\n",
    "print(np.shape(train_y))\n",
    "print(np.shape(test_x))\n",
    "print(np.shape(test_y))"
   ]
  },
  {
   "cell_type": "code",
   "execution_count": 6,
   "metadata": {},
   "outputs": [
    {
     "data": {
      "text/plain": [
       "{0: 'bicycle', 1: 'horse', 2: 'ship', 3: 'truck'}"
      ]
     },
     "execution_count": 6,
     "metadata": {},
     "output_type": "execute_result"
    }
   ],
   "source": [
    "ch_to_idx"
   ]
  },
  {
   "cell_type": "markdown",
   "metadata": {},
   "source": [
    "### CNN Without BatchNorm "
   ]
  },
  {
   "cell_type": "code",
   "execution_count": 44,
   "metadata": {
    "collapsed": true
   },
   "outputs": [],
   "source": [
    "train_graph_1 = tf.Graph()\n",
    "with train_graph_1.as_default():\n",
    "    x = tf.placeholder(tf.float32, shape=[None, 32,32,3])\n",
    "    y = tf.placeholder(tf.int32, shape=[None])\n",
    "    y_onehot = tf.one_hot(y, depth=4)\n",
    "    \n",
    "    w = tf.get_variable(shape = [3,3,3,32], name='w')\n",
    "    w_softmax = tf.get_variable(shape = [16*16*32,4], name='w_softmax')\n",
    "    b_softmax = tf.get_variable(shape = [4], name = 'b_softmax')\n",
    "    \n",
    "    layer = tf.nn.conv2d(filter=w, input=x, padding='SAME', strides=[1,1,1,1])\n",
    "    # batch normal x\n",
    "    layer = tf.nn.relu(layer)\n",
    "    layer = tf.nn.max_pool(layer, ksize=[1,2,2,1], padding='SAME', strides=[1,2,2,1])\n",
    "    \n",
    "    logit = tf.matmul(tf.reshape(layer, shape=[-1,16*16*32]), w_softmax) + b_softmax\n",
    "    loss = tf.reduce_sum(tf.nn.softmax_cross_entropy_with_logits(logits=logit, labels=y_onehot))\n",
    "    training = tf.train.GradientDescentOptimizer(0.000001).minimize(loss) # gradientoptimizer로하니까 학습 거의안됨 .. lr을 엄청나게 낮춰야되는구나 \n",
    "    acc = tf.reduce_mean(tf.cast(tf.equal(tf.cast(tf.argmax(logit, 1),dtype=tf.float32), tf.cast(y,dtype=tf.float32)), dtype=tf.float32))"
   ]
  },
  {
   "cell_type": "code",
   "execution_count": 45,
   "metadata": {
    "collapsed": true
   },
   "outputs": [],
   "source": [
    "batch_size = 4\n",
    "n_epoch=15\n",
    "acc_list=[]"
   ]
  },
  {
   "cell_type": "code",
   "execution_count": 46,
   "metadata": {
    "scrolled": true
   },
   "outputs": [
    {
     "name": "stdout",
     "output_type": "stream",
     "text": [
      "------------------------------------------- Epoch : 0 -----------------------------------------------------\n",
      "Loss :  119.52539\n",
      "Train Accuracy :  0.855\n",
      "Test Accuracy :  0.63095236\n",
      "------------------------------------------- Epoch : 1 -----------------------------------------------------\n",
      "Loss :  38.826393\n",
      "Train Accuracy :  0.95\n",
      "Test Accuracy :  0.63095236\n",
      "------------------------------------------- Epoch : 2 -----------------------------------------------------\n",
      "Loss :  18.437176\n",
      "Train Accuracy :  0.975\n",
      "Test Accuracy :  0.64285713\n",
      "------------------------------------------- Epoch : 3 -----------------------------------------------------\n",
      "Loss :  11.084818\n",
      "Train Accuracy :  0.99\n",
      "Test Accuracy :  0.64285713\n",
      "------------------------------------------- Epoch : 4 -----------------------------------------------------\n",
      "Loss :  7.7499285\n",
      "Train Accuracy :  0.995\n",
      "Test Accuracy :  0.64285713\n",
      "------------------------------------------- Epoch : 5 -----------------------------------------------------\n",
      "Loss :  5.848634\n",
      "Train Accuracy :  1.0\n",
      "Test Accuracy :  0.63095236\n",
      "------------------------------------------- Epoch : 6 -----------------------------------------------------\n",
      "Loss :  4.6043425\n",
      "Train Accuracy :  1.0\n",
      "Test Accuracy :  0.63095236\n",
      "------------------------------------------- Epoch : 7 -----------------------------------------------------\n",
      "Loss :  3.746591\n",
      "Train Accuracy :  1.0\n",
      "Test Accuracy :  0.61904764\n",
      "------------------------------------------- Epoch : 8 -----------------------------------------------------\n",
      "Loss :  3.1508265\n",
      "Train Accuracy :  1.0\n",
      "Test Accuracy :  0.61904764\n",
      "------------------------------------------- Epoch : 9 -----------------------------------------------------\n",
      "Loss :  2.711862\n",
      "Train Accuracy :  1.0\n",
      "Test Accuracy :  0.61904764\n",
      "------------------------------------------- Epoch : 10 -----------------------------------------------------\n",
      "Loss :  2.371064\n",
      "Train Accuracy :  1.0\n",
      "Test Accuracy :  0.63095236\n",
      "------------------------------------------- Epoch : 11 -----------------------------------------------------\n",
      "Loss :  2.0933506\n",
      "Train Accuracy :  1.0\n",
      "Test Accuracy :  0.64285713\n",
      "------------------------------------------- Epoch : 12 -----------------------------------------------------\n",
      "Loss :  1.8553891\n",
      "Train Accuracy :  1.0\n",
      "Test Accuracy :  0.64285713\n",
      "------------------------------------------- Epoch : 13 -----------------------------------------------------\n",
      "Loss :  1.6606495\n",
      "Train Accuracy :  1.0\n",
      "Test Accuracy :  0.64285713\n",
      "------------------------------------------- Epoch : 14 -----------------------------------------------------\n",
      "Loss :  1.4982084\n",
      "Train Accuracy :  1.0\n",
      "Test Accuracy :  0.64285713\n"
     ]
    }
   ],
   "source": [
    "with tf.Session(graph=train_graph_1) as sess:\n",
    "    sess.run(tf.global_variables_initializer())\n",
    "    for epoch in range(n_epoch) :\n",
    "        batch_start=0\n",
    "        total_idx = np.arange(len(train_x)) ; #np.random.shuffle(total_idx)\n",
    "        for _ in range(int(np.ceil(len(train_x)/batch_size))):\n",
    "            batch_idx = total_idx[batch_start:batch_start+batch_size]\n",
    "            batch_x = train_x[total_idx]\n",
    "            batch_y = train_y[total_idx]\n",
    "            sess.run(training, feed_dict={x:batch_x,\n",
    "                                          y:batch_y})\n",
    "            batch_start += batch_size\n",
    "        print('------------------------------------------- Epoch : {} -----------------------------------------------------' .format(epoch))\n",
    "        print('Loss : ', sess.run(loss, feed_dict={x:batch_x,\n",
    "                                                   y:batch_y}))\n",
    "        print('Train Accuracy : ', sess.run(acc, feed_dict={x:batch_x,\n",
    "                                                          y:batch_y}))\n",
    "        accuracy = sess.run(acc, feed_dict={x:test_x,\n",
    "                                              y:test_y})\n",
    "        print('Test Accuracy : ', accuracy)\n",
    "        acc_list.append(accuracy)"
   ]
  },
  {
   "cell_type": "markdown",
   "metadata": {},
   "source": [
    "### CNN With BatchNorm"
   ]
  },
  {
   "cell_type": "code",
   "execution_count": 64,
   "metadata": {
    "collapsed": true
   },
   "outputs": [],
   "source": [
    "from tensorflow.python import control_flow_ops"
   ]
  },
  {
   "cell_type": "code",
   "execution_count": 66,
   "metadata": {
    "collapsed": true
   },
   "outputs": [],
   "source": [
    "train_graph_2 = tf.Graph()\n",
    "with train_graph_2.as_default():\n",
    "    x = tf.placeholder(tf.float32, shape=[None, 32,32,3])\n",
    "    y = tf.placeholder(tf.int32, shape=[None])\n",
    "    y_onehot = tf.one_hot(y, depth=4)\n",
    "    phase_train = tf.placeholder(tf.bool)\n",
    "\n",
    "    w = tf.get_variable(shape = [3,3,3,32], name='w')\n",
    "    w_softmax = tf.get_variable(shape = [16*16*32,4], name='w_softmax')\n",
    "    b_softmax = tf.get_variable(shape = [4], name = 'b_softmax')\n",
    "\n",
    "    layer = tf.nn.conv2d(filter=w, input=x, padding='SAME', strides=[1,1,1,1])\n",
    "    layer = batch_norm(layer, n_out=32, phase_train = phase_train)\n",
    "\n",
    "    layer = tf.nn.relu(layer)\n",
    "    layer = tf.nn.max_pool(layer, ksize=[1,2,2,1], padding='SAME', strides=[1,2,2,1])\n",
    "\n",
    "    logit = tf.matmul(tf.reshape(layer, shape=[-1,16*16*32]), w_softmax) + b_softmax\n",
    "    loss = tf.reduce_sum(tf.nn.softmax_cross_entropy_with_logits(logits=logit, labels=y_onehot))\n",
    "    training = tf.train.GradientDescentOptimizer(0.000001).minimize(loss) # gradientoptimizer로하니까 학습 거의안됨 .. lr을 엄청나게 낮춰야되는구나 \n",
    "    acc = tf.reduce_mean(tf.cast(tf.equal(tf.cast(tf.argmax(logit, 1),dtype=tf.float32), tf.cast(y,dtype=tf.float32)), dtype=tf.float32))"
   ]
  },
  {
   "cell_type": "code",
   "execution_count": 67,
   "metadata": {
    "collapsed": true
   },
   "outputs": [],
   "source": [
    "batch_size = 4\n",
    "n_epoch=15\n",
    "acc_list_2=[]"
   ]
  },
  {
   "cell_type": "code",
   "execution_count": 68,
   "metadata": {
    "scrolled": true
   },
   "outputs": [
    {
     "name": "stdout",
     "output_type": "stream",
     "text": [
      "------------------------------------------- Epoch : 0 -----------------------------------------------------\n",
      "Loss :  220.12291\n",
      "Train Accuracy :  0.51\n",
      "Test Accuracy :  0.5714286\n",
      "------------------------------------------- Epoch : 1 -----------------------------------------------------\n",
      "Loss :  182.89407\n",
      "Train Accuracy :  0.645\n",
      "Test Accuracy :  0.60714287\n",
      "------------------------------------------- Epoch : 2 -----------------------------------------------------\n",
      "Loss :  158.04329\n",
      "Train Accuracy :  0.7\n",
      "Test Accuracy :  0.63095236\n",
      "------------------------------------------- Epoch : 3 -----------------------------------------------------\n",
      "Loss :  139.70285\n",
      "Train Accuracy :  0.76\n",
      "Test Accuracy :  0.6785714\n",
      "------------------------------------------- Epoch : 4 -----------------------------------------------------\n",
      "Loss :  125.375\n",
      "Train Accuracy :  0.785\n",
      "Test Accuracy :  0.6904762\n",
      "------------------------------------------- Epoch : 5 -----------------------------------------------------\n",
      "Loss :  113.72629\n",
      "Train Accuracy :  0.815\n",
      "Test Accuracy :  0.71428573\n",
      "------------------------------------------- Epoch : 6 -----------------------------------------------------\n",
      "Loss :  103.98638\n",
      "Train Accuracy :  0.87\n",
      "Test Accuracy :  0.71428573\n",
      "------------------------------------------- Epoch : 7 -----------------------------------------------------\n",
      "Loss :  95.64653\n",
      "Train Accuracy :  0.885\n",
      "Test Accuracy :  0.72619045\n",
      "------------------------------------------- Epoch : 8 -----------------------------------------------------\n",
      "Loss :  88.45264\n",
      "Train Accuracy :  0.885\n",
      "Test Accuracy :  0.72619045\n",
      "------------------------------------------- Epoch : 9 -----------------------------------------------------\n",
      "Loss :  82.163895\n",
      "Train Accuracy :  0.91\n",
      "Test Accuracy :  0.7380952\n",
      "------------------------------------------- Epoch : 10 -----------------------------------------------------\n",
      "Loss :  76.61052\n",
      "Train Accuracy :  0.91\n",
      "Test Accuracy :  0.7619048\n",
      "------------------------------------------- Epoch : 11 -----------------------------------------------------\n",
      "Loss :  71.66945\n",
      "Train Accuracy :  0.93\n",
      "Test Accuracy :  0.77380955\n",
      "------------------------------------------- Epoch : 12 -----------------------------------------------------\n",
      "Loss :  67.23722\n",
      "Train Accuracy :  0.94\n",
      "Test Accuracy :  0.78571427\n",
      "------------------------------------------- Epoch : 13 -----------------------------------------------------\n",
      "Loss :  63.22482\n",
      "Train Accuracy :  0.94\n",
      "Test Accuracy :  0.78571427\n",
      "------------------------------------------- Epoch : 14 -----------------------------------------------------\n",
      "Loss :  59.576546\n",
      "Train Accuracy :  0.945\n",
      "Test Accuracy :  0.78571427\n"
     ]
    }
   ],
   "source": [
    "with tf.Session(graph=train_graph_2) as sess:\n",
    "    sess.run(tf.global_variables_initializer())\n",
    "    for epoch in range(n_epoch) :\n",
    "        batch_start=0\n",
    "        total_idx = np.arange(len(train_x)) ;# np.random.shuffle(total_idx)\n",
    "        for _ in range(int(np.ceil(len(train_x)/batch_size))):\n",
    "            batch_idx = total_idx[batch_start:batch_start+batch_size]\n",
    "            batch_x = train_x[total_idx]\n",
    "            batch_y = train_y[total_idx]\n",
    "            sess.run(training, feed_dict={x:batch_x,\n",
    "                                          y:batch_y,\n",
    "                                         phase_train:True})\n",
    "            batch_start += batch_size\n",
    "        print('------------------------------------------- Epoch : {} -----------------------------------------------------' .format(epoch))\n",
    "        print('Loss : ', sess.run(loss, feed_dict={x:batch_x,\n",
    "                                                   y:batch_y,\n",
    "                                                phase_train:False}))\n",
    "        print('Train Accuracy : ', sess.run(acc, feed_dict={x:batch_x,\n",
    "                                                            y:batch_y,\n",
    "                                                            phase_train:False}))\n",
    "        accuracy = sess.run(acc, feed_dict={x:test_x,\n",
    "                                            y:test_y,\n",
    "                                            phase_train:False})\n",
    "        print('Test Accuracy : ', accuracy)\n",
    "        acc_list_2.append(accuracy)"
   ]
  },
  {
   "cell_type": "markdown",
   "metadata": {},
   "source": [
    "### CNN With BatchRenorm"
   ]
  },
  {
   "cell_type": "code",
   "execution_count": 72,
   "metadata": {
    "collapsed": true
   },
   "outputs": [],
   "source": [
    "train_graph_3 = tf.Graph()\n",
    "with train_graph_3.as_default():\n",
    "    x = tf.placeholder(tf.float32, shape=[None, 32,32,3])\n",
    "    y = tf.placeholder(tf.int32, shape=[None])\n",
    "    y_onehot = tf.one_hot(y, depth=4)\n",
    "    phase_train = tf.placeholder(tf.bool)\n",
    "    r_max = tf.placeholder(tf.float32, shape=[]) # scalar는 shape을 이렇게 비워야 함\n",
    "    d_max = tf.placeholder(tf.float32, shape=[])\n",
    "\n",
    "    w = tf.get_variable(shape = [3,3,3,32], name='w')\n",
    "    w_softmax = tf.get_variable(shape = [16*16*32,4], name='w_softmax')\n",
    "    b_softmax = tf.get_variable(shape = [4], name = 'b_softmax')\n",
    "\n",
    "    layer = tf.nn.conv2d(filter=w, input=x, padding='SAME', strides=[1,1,1,1])\n",
    "    layer = batch_norm(layer, n_out=32, phase_train = phase_train)\n",
    "    layer = batch_renorm(layer, n_out=32, phase_train = phase_train, r_max=r_max, d_max=d_max)\n",
    "\n",
    "    layer = tf.nn.relu(layer)\n",
    "    layer = tf.nn.max_pool(layer, ksize=[1,2,2,1], padding='SAME', strides=[1,2,2,1])\n",
    "\n",
    "    logit = tf.matmul(tf.reshape(layer, shape=[-1,16*16*32]), w_softmax) + b_softmax\n",
    "    loss = tf.reduce_sum(tf.nn.softmax_cross_entropy_with_logits(logits=logit, labels=y_onehot))\n",
    "    training = tf.train.GradientDescentOptimizer(0.000001).minimize(loss) # gradientoptimizer로하니까 학습 거의안됨 .. lr을 엄청나게 낮춰야되는구나 \n",
    "    acc = tf.reduce_mean(tf.cast(tf.equal(tf.cast(tf.argmax(logit, 1),dtype=tf.float32), tf.cast(y,dtype=tf.float32)), dtype=tf.float32))"
   ]
  },
  {
   "cell_type": "code",
   "execution_count": 73,
   "metadata": {
    "collapsed": true
   },
   "outputs": [],
   "source": [
    "batch_size = 4\n",
    "n_epoch=15\n",
    "acc_list_3=[]"
   ]
  },
  {
   "cell_type": "code",
   "execution_count": 74,
   "metadata": {
    "scrolled": true
   },
   "outputs": [
    {
     "name": "stdout",
     "output_type": "stream",
     "text": [
      "------------------------------------------- Epoch : 0 -----------------------------------------------------\n",
      "Loss :  196.177\n",
      "Train Accuracy :  0.605\n",
      "Test Accuracy :  0.53571427\n",
      "------------------------------------------- Epoch : 1 -----------------------------------------------------\n",
      "Loss :  161.82492\n",
      "Train Accuracy :  0.7\n",
      "Test Accuracy :  0.61904764\n",
      "------------------------------------------- Epoch : 2 -----------------------------------------------------\n",
      "Loss :  139.3371\n",
      "Train Accuracy :  0.76\n",
      "Test Accuracy :  0.6785714\n",
      "------------------------------------------- Epoch : 3 -----------------------------------------------------\n",
      "Loss :  122.76203\n",
      "Train Accuracy :  0.82\n",
      "Test Accuracy :  0.6904762\n",
      "------------------------------------------- Epoch : 4 -----------------------------------------------------\n",
      "Loss :  109.919174\n",
      "Train Accuracy :  0.85\n",
      "Test Accuracy :  0.75\n",
      "------------------------------------------- Epoch : 5 -----------------------------------------------------\n",
      "Loss :  99.573616\n",
      "Train Accuracy :  0.865\n",
      "Test Accuracy :  0.7619048\n",
      "------------------------------------------- Epoch : 6 -----------------------------------------------------\n",
      "Loss :  90.994705\n",
      "Train Accuracy :  0.88\n",
      "Test Accuracy :  0.7619048\n",
      "------------------------------------------- Epoch : 7 -----------------------------------------------------\n",
      "Loss :  83.7076\n",
      "Train Accuracy :  0.895\n",
      "Test Accuracy :  0.7619048\n",
      "------------------------------------------- Epoch : 8 -----------------------------------------------------\n",
      "Loss :  77.43407\n",
      "Train Accuracy :  0.91\n",
      "Test Accuracy :  0.7619048\n",
      "------------------------------------------- Epoch : 9 -----------------------------------------------------\n",
      "Loss :  71.97019\n",
      "Train Accuracy :  0.915\n",
      "Test Accuracy :  0.77380955\n",
      "------------------------------------------- Epoch : 10 -----------------------------------------------------\n",
      "Loss :  67.14409\n",
      "Train Accuracy :  0.935\n",
      "Test Accuracy :  0.77380955\n",
      "------------------------------------------- Epoch : 11 -----------------------------------------------------\n",
      "Loss :  62.85022\n",
      "Train Accuracy :  0.94\n",
      "Test Accuracy :  0.79761904\n",
      "------------------------------------------- Epoch : 12 -----------------------------------------------------\n",
      "Loss :  59.018993\n",
      "Train Accuracy :  0.94\n",
      "Test Accuracy :  0.79761904\n",
      "------------------------------------------- Epoch : 13 -----------------------------------------------------\n",
      "Loss :  55.553204\n",
      "Train Accuracy :  0.96\n",
      "Test Accuracy :  0.79761904\n",
      "------------------------------------------- Epoch : 14 -----------------------------------------------------\n",
      "Loss :  52.404922\n",
      "Train Accuracy :  0.965\n",
      "Test Accuracy :  0.8095238\n"
     ]
    }
   ],
   "source": [
    "with tf.Session(graph=train_graph_3) as sess:\n",
    "    sess.run(tf.global_variables_initializer())\n",
    "    for epoch in range(n_epoch) :\n",
    "        batch_start=0\n",
    "        total_idx = np.arange(len(train_x)) #; np.random.shuffle(total_idx)\n",
    "        r_max_value = 1\n",
    "        d_max_value = 0\n",
    "        for iteration in range(int(np.ceil(len(train_x)/batch_size))):\n",
    "            batch_idx = total_idx[batch_start:batch_start+batch_size]\n",
    "            batch_x = train_x[total_idx]\n",
    "            batch_y = train_y[total_idx]\n",
    "            if epoch > n_epoch/3:\n",
    "                r_max_value = 1 + 0.1 * epoch\n",
    "                d_max_value = 0.1 * epoch\n",
    "            sess.run(training, feed_dict={x:batch_x,\n",
    "                                          y:batch_y,\n",
    "                                         phase_train:True,\n",
    "                                         r_max : r_max_value,\n",
    "                                         d_max : d_max_value})\n",
    "            batch_start += batch_size\n",
    "        print('------------------------------------------- Epoch : {} -----------------------------------------------------' .format(epoch))\n",
    "        print('Loss : ', sess.run(loss, feed_dict={x:batch_x,\n",
    "                                                   y:batch_y,\n",
    "                                                   phase_train:False,\n",
    "                                                 r_max : r_max_value,\n",
    "                                                 d_max : d_max_value}))\n",
    "        print('Train Accuracy : ', sess.run(acc, feed_dict={x:batch_x,\n",
    "                                                            y:batch_y,\n",
    "                                                            phase_train:False,\n",
    "                                                         r_max : r_max_value,\n",
    "                                                         d_max : d_max_value}))\n",
    "        accuracy = sess.run(acc, feed_dict={x:test_x,\n",
    "                                            y:test_y,\n",
    "                                            phase_train:False,\n",
    "                                             r_max : r_max_value,\n",
    "                                             d_max : d_max_value})\n",
    "        print('Test Accuracy : ', accuracy)\n",
    "        acc_list_3.append(accuracy)"
   ]
  },
  {
   "cell_type": "markdown",
   "metadata": {},
   "source": [
    "### Comparison between None, Batch Norm, Batch Renorm"
   ]
  },
  {
   "cell_type": "code",
   "execution_count": 77,
   "metadata": {},
   "outputs": [
    {
     "data": {
      "image/png": "[encoded data removed]",
      "text/plain": [
       "<matplotlib.figure.Figure at 0x2aa50c05c88>"
      ]
     },
     "metadata": {},
     "output_type": "display_data"
    }
   ],
   "source": [
    "# mini-batch, non-iid. decay ratio = 0.9\n",
    "plt.plot(acc_list)\n",
    "plt.plot(acc_list_2)\n",
    "plt.plot(acc_list_3)\n",
    "plt.legend(['None', 'Batch Norm', 'Batch Renorm'])\n",
    "plt.show()"
   ]
  }
 ],
 "metadata": {
  "kernelspec": {
   "display_name": "Python [default]",
   "language": "python",
   "name": "python3"
  },
  "language_info": {
   "codemirror_mode": {
    "name": "ipython",
    "version": 3
   },
   "file_extension": ".py",
   "mimetype": "text/x-python",
   "name": "python",
   "nbconvert_exporter": "python",
   "pygments_lexer": "ipython3",
   "version": "3.6.3"
  }
 },
 "nbformat": 4,
 "nbformat_minor": 2
}
