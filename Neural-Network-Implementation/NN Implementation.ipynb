{
 "cells": [
  {
   "cell_type": "code",
   "execution_count": 50,
   "metadata": {},
   "outputs": [],
   "source": [
    "import numpy as np\n",
    "import pandas as pd\n",
    "from sklearn.model_selection import train_test_split\n",
    "from collections import Counter as counter\n",
    "import matplotlib.pyplot as plt"
   ]
  },
  {
   "cell_type": "code",
   "execution_count": 2,
   "metadata": {},
   "outputs": [
    {
     "data": {
      "text/html": [
       "<div>\n",
       "<style>\n",
       "    .dataframe thead tr:only-child th {\n",
       "        text-align: right;\n",
       "    }\n",
       "\n",
       "    .dataframe thead th {\n",
       "        text-align: left;\n",
       "    }\n",
       "\n",
       "    .dataframe tbody tr th {\n",
       "        vertical-align: top;\n",
       "    }\n",
       "</style>\n",
       "<table border=\"1\" class=\"dataframe\">\n",
       "  <thead>\n",
       "    <tr style=\"text-align: right;\">\n",
       "      <th></th>\n",
       "      <th>sepal_length</th>\n",
       "      <th>sepal_width</th>\n",
       "      <th>petal_length</th>\n",
       "      <th>petal_width</th>\n",
       "      <th>species</th>\n",
       "    </tr>\n",
       "  </thead>\n",
       "  <tbody>\n",
       "    <tr>\n",
       "      <th>0</th>\n",
       "      <td>5.1</td>\n",
       "      <td>3.5</td>\n",
       "      <td>1.4</td>\n",
       "      <td>0.2</td>\n",
       "      <td>setosa</td>\n",
       "    </tr>\n",
       "    <tr>\n",
       "      <th>1</th>\n",
       "      <td>4.9</td>\n",
       "      <td>3.0</td>\n",
       "      <td>1.4</td>\n",
       "      <td>0.2</td>\n",
       "      <td>setosa</td>\n",
       "    </tr>\n",
       "    <tr>\n",
       "      <th>2</th>\n",
       "      <td>4.7</td>\n",
       "      <td>3.2</td>\n",
       "      <td>1.3</td>\n",
       "      <td>0.2</td>\n",
       "      <td>setosa</td>\n",
       "    </tr>\n",
       "    <tr>\n",
       "      <th>3</th>\n",
       "      <td>4.6</td>\n",
       "      <td>3.1</td>\n",
       "      <td>1.5</td>\n",
       "      <td>0.2</td>\n",
       "      <td>setosa</td>\n",
       "    </tr>\n",
       "    <tr>\n",
       "      <th>4</th>\n",
       "      <td>5.0</td>\n",
       "      <td>3.6</td>\n",
       "      <td>1.4</td>\n",
       "      <td>0.2</td>\n",
       "      <td>setosa</td>\n",
       "    </tr>\n",
       "  </tbody>\n",
       "</table>\n",
       "</div>"
      ],
      "text/plain": [
       "   sepal_length  sepal_width  petal_length  petal_width species\n",
       "0           5.1          3.5           1.4          0.2  setosa\n",
       "1           4.9          3.0           1.4          0.2  setosa\n",
       "2           4.7          3.2           1.3          0.2  setosa\n",
       "3           4.6          3.1           1.5          0.2  setosa\n",
       "4           5.0          3.6           1.4          0.2  setosa"
      ]
     },
     "execution_count": 2,
     "metadata": {},
     "output_type": "execute_result"
    }
   ],
   "source": [
    "iris = pd.read_csv(\"iris.csv\")\n",
    "iris.head()"
   ]
  },
  {
   "cell_type": "code",
   "execution_count": 324,
   "metadata": {
    "collapsed": true
   },
   "outputs": [],
   "source": [
    "train, test = train_test_split(iris, test_size = 0.2)"
   ]
  },
  {
   "cell_type": "code",
   "execution_count": 325,
   "metadata": {
    "scrolled": false
   },
   "outputs": [
    {
     "data": {
      "text/plain": [
       "((120, 5), (30, 5))"
      ]
     },
     "execution_count": 325,
     "metadata": {},
     "output_type": "execute_result"
    }
   ],
   "source": [
    "train.shape, test.shape"
   ]
  },
  {
   "cell_type": "code",
   "execution_count": 326,
   "metadata": {},
   "outputs": [
    {
     "data": {
      "text/plain": [
       "Counter({'setosa': 41, 'versicolor': 38, 'virginica': 41})"
      ]
     },
     "execution_count": 326,
     "metadata": {},
     "output_type": "execute_result"
    }
   ],
   "source": [
    "counter(train['species'])"
   ]
  },
  {
   "cell_type": "code",
   "execution_count": 327,
   "metadata": {},
   "outputs": [
    {
     "data": {
      "text/plain": [
       "Counter({'setosa': 9, 'versicolor': 12, 'virginica': 9})"
      ]
     },
     "execution_count": 327,
     "metadata": {},
     "output_type": "execute_result"
    }
   ],
   "source": [
    "counter(test['species'])"
   ]
  },
  {
   "cell_type": "code",
   "execution_count": 328,
   "metadata": {
    "collapsed": true
   },
   "outputs": [],
   "source": [
    "train_x = train[train.columns[:4]]\n",
    "train_y = train[train.columns[4]]"
   ]
  },
  {
   "cell_type": "markdown",
   "metadata": {
    "collapsed": true
   },
   "source": [
    "### input layer - one hidden layer - output layer"
   ]
  },
  {
   "cell_type": "code",
   "execution_count": 329,
   "metadata": {
    "collapsed": true
   },
   "outputs": [],
   "source": [
    "def Activ_Fun(x): # Relu\n",
    "    x[x<0]=0\n",
    "    return x"
   ]
  },
  {
   "cell_type": "code",
   "execution_count": 330,
   "metadata": {
    "collapsed": true
   },
   "outputs": [],
   "source": [
    "def Softmax(x):\n",
    "    a = np.exp(x)\n",
    "    return(a/a.sum(axis=1).reshape(a.shape[0],1)) # 백터열 형태로 바꿔줘야 연산이된다 "
   ]
  },
  {
   "cell_type": "code",
   "execution_count": 407,
   "metadata": {
    "collapsed": true
   },
   "outputs": [],
   "source": [
    "#변수설정\n",
    "w1 = np.random.randn(n_features, n_nodes) \n",
    "b1 = np.array(np.random.standard_normal(n_nodes))\n",
    "w2 = np.random.randn(n_nodes, n_class)\n",
    "b2 = np.array(np.random.standard_normal(n_class))"
   ]
  },
  {
   "cell_type": "code",
   "execution_count": 408,
   "metadata": {
    "collapsed": true
   },
   "outputs": [],
   "source": [
    "lr = 0.00001\n",
    "n_features = train_x.shape[1]\n",
    "n_class = len(train_y.unique())\n",
    "n_nodes = 100"
   ]
  },
  {
   "cell_type": "code",
   "execution_count": 409,
   "metadata": {
    "scrolled": true
   },
   "outputs": [
    {
     "data": {
      "text/plain": [
       "[10.878735781808128,\n",
       " 10.877013209561536,\n",
       " 10.875293007748152,\n",
       " 10.873575168870513,\n",
       " 10.871859685471751,\n",
       " 10.870146550135203,\n",
       " 10.868435755484038,\n",
       " 10.866727294180714,\n",
       " 10.865021158926734,\n",
       " 10.86331734246215,\n",
       " 10.86161583756514,\n",
       " 10.859916637051779,\n",
       " 10.858219733775536,\n",
       " 10.856525120626937,\n",
       " 10.854832790533282,\n",
       " 10.8531427364582,\n",
       " 10.851454951401397,\n",
       " 10.849769428398243,\n",
       " 10.848086160519504,\n",
       " 10.846405140871045,\n",
       " 10.844726362593391,\n",
       " 10.843049818861592,\n",
       " 10.841375502884757,\n",
       " 10.839703407905906,\n",
       " 10.838033527201567,\n",
       " 10.83636585408153,\n",
       " 10.834700381888581,\n",
       " 10.83303710399825,\n",
       " 10.831376013818426,\n",
       " 10.829717104789214,\n",
       " 10.828060370382662,\n",
       " 10.826405804102409,\n",
       " 10.824753399483548,\n",
       " 10.823103150092312,\n",
       " 10.821455049525843,\n",
       " 10.819809091411923,\n",
       " 10.818171969399955,\n",
       " 10.816541398240577,\n",
       " 10.814912913959866,\n",
       " 10.813286510173107,\n",
       " 10.811662180557526,\n",
       " 10.810039918842293,\n",
       " 10.80841971880161,\n",
       " 10.806801574250137,\n",
       " 10.805185479039793,\n",
       " 10.80357142705757,\n",
       " 10.801959412224006,\n",
       " 10.800349428491973,\n",
       " 10.798741469845957,\n",
       " 10.797135530301258]"
      ]
     },
     "execution_count": 409,
     "metadata": {},
     "output_type": "execute_result"
    }
   ],
   "source": [
    "loss_record=[]\n",
    "for _ in range(1000):\n",
    "    # Calculating theloss\n",
    "    hidden_1 = Activ_Fun(np.dot(train_x, w1)+b1)\n",
    "    softmax = np.array(Softmax(np.dot(hidden_1, w2) + b2))\n",
    "    one_hot = np.array(pd.get_dummies(train_y))\n",
    "    loss = (-np.log(softmax) * one_hot).sum()\n",
    "    loss_record.append(loss)\n",
    "    \n",
    "    # Backpropagation\n",
    "    doutput2 = softmax - one_hot #  Deriative of Softmax\n",
    "    dw2 = np.dot( hidden_1.transpose(), doutput2)\n",
    "    db2 = doutput2.sum(axis=0)\n",
    "    dhidden =  np.dot(doutput2, w2.transpose())\n",
    "    dhidden[hidden_1<=0] =0 # Deriative of Relu\n",
    "    doutput1 = dhidden\n",
    "    dw1 = np.dot(train_x.transpose(), doutput1)\n",
    "    db1 = doutput1.sum(axis=0)\n",
    "    \n",
    "    # update\n",
    "    w2 = w2 - lr*dw2\n",
    "    b2 = b2 - lr*db2\n",
    "    w1 = w1 - lr*dw1\n",
    "    b1 = b1 - lr*db1\n",
    "loss_record[-50:]"
   ]
  },
  {
   "cell_type": "code",
   "execution_count": 410,
   "metadata": {
    "scrolled": false
   },
   "outputs": [
    {
     "data": {
      "image/png": "[encoded data removed]",
      "text/plain": [
       "<matplotlib.figure.Figure at 0x28ce6dc55f8>"
      ]
     },
     "metadata": {},
     "output_type": "display_data"
    }
   ],
   "source": [
    "plt.plot(loss_record)\n",
    "plt.show()"
   ]
  },
  {
   "cell_type": "code",
   "execution_count": 411,
   "metadata": {
    "scrolled": true
   },
   "outputs": [
    {
     "name": "stdout",
     "output_type": "stream",
     "text": [
      "Accuracy :  0.9\n"
     ]
    }
   ],
   "source": [
    "# test_set\n",
    "pred_hidden_1 = Activ_Fun(np.dot(test[test.columns[:-1]], w1)+b1)\n",
    "pred_softmax = np.array(Softmax(np.dot(pred_hidden_1, w2) + b2))\n",
    "pred_index = pred_softmax.argmax(axis=1)\n",
    "pred=[]\n",
    "dic = {0:'setosa', 1:'versicolor', 2:'virginica'}\n",
    "for t in pred_index:\n",
    "    pred.append(dic[t])\n",
    "print('Accuracy : ',(pred == test.species).sum()/ len(pred))"
   ]
  },
  {
   "cell_type": "code",
   "execution_count": null,
   "metadata": {
    "collapsed": true
   },
   "outputs": [],
   "source": []
  }
 ],
 "metadata": {
  "anaconda-cloud": {},
  "kernelspec": {
   "display_name": "Python [default]",
   "language": "python",
   "name": "python3"
  },
  "language_info": {
   "codemirror_mode": {
    "name": "ipython",
    "version": 3
   },
   "file_extension": ".py",
   "mimetype": "text/x-python",
   "name": "python",
   "nbconvert_exporter": "python",
   "pygments_lexer": "ipython3",
   "version": "3.6.3"
  }
 },
 "nbformat": 4,
 "nbformat_minor": 2
}
